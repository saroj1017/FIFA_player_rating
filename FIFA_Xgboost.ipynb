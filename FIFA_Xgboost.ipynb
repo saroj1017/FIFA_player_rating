{
  "nbformat": 4,
  "nbformat_minor": 0,
  "metadata": {
    "colab": {
      "name": "FIFA_Xgboost.ipynb",
      "provenance": [],
      "collapsed_sections": []
    },
    "kernelspec": {
      "name": "python3",
      "display_name": "Python 3"
    },
    "language_info": {
      "name": "python"
    }
  },
  "cells": [
    {
      "cell_type": "code",
      "metadata": {
        "id": "ZeNZOR0Oq4-_"
      },
      "source": [
        "import numpy as np\n",
        "import pandas as pd\n",
        "import matplotlib.pyplot as plt\n",
        "import seaborn as sns\n",
        "  "
      ],
      "execution_count": null,
      "outputs": []
    },
    {
      "cell_type": "code",
      "metadata": {
        "id": "v28iST7wtWl7"
      },
      "source": [
        "df = pd.read_csv(\"/content/drive/MyDrive/football/players_20.csv\")"
      ],
      "execution_count": null,
      "outputs": []
    },
    {
      "cell_type": "code",
      "metadata": {
        "colab": {
          "base_uri": "https://localhost:8080/",
          "height": 487
        },
        "id": "jTBEEk-4tZa5",
        "outputId": "ea22eddf-1d50-43dd-8900-9e3d599aa4ba"
      },
      "source": [
        "df.head()"
      ],
      "execution_count": null,
      "outputs": [
        {
          "output_type": "execute_result",
          "data": {
            "text/html": [
              "<div>\n",
              "<style scoped>\n",
              "    .dataframe tbody tr th:only-of-type {\n",
              "        vertical-align: middle;\n",
              "    }\n",
              "\n",
              "    .dataframe tbody tr th {\n",
              "        vertical-align: top;\n",
              "    }\n",
              "\n",
              "    .dataframe thead th {\n",
              "        text-align: right;\n",
              "    }\n",
              "</style>\n",
              "<table border=\"1\" class=\"dataframe\">\n",
              "  <thead>\n",
              "    <tr style=\"text-align: right;\">\n",
              "      <th></th>\n",
              "      <th>sofifa_id</th>\n",
              "      <th>player_url</th>\n",
              "      <th>short_name</th>\n",
              "      <th>long_name</th>\n",
              "      <th>age</th>\n",
              "      <th>dob</th>\n",
              "      <th>height_cm</th>\n",
              "      <th>weight_kg</th>\n",
              "      <th>nationality</th>\n",
              "      <th>club</th>\n",
              "      <th>overall</th>\n",
              "      <th>potential</th>\n",
              "      <th>value_eur</th>\n",
              "      <th>wage_eur</th>\n",
              "      <th>player_positions</th>\n",
              "      <th>preferred_foot</th>\n",
              "      <th>international_reputation</th>\n",
              "      <th>weak_foot</th>\n",
              "      <th>skill_moves</th>\n",
              "      <th>work_rate</th>\n",
              "      <th>body_type</th>\n",
              "      <th>real_face</th>\n",
              "      <th>release_clause_eur</th>\n",
              "      <th>player_tags</th>\n",
              "      <th>team_position</th>\n",
              "      <th>team_jersey_number</th>\n",
              "      <th>loaned_from</th>\n",
              "      <th>joined</th>\n",
              "      <th>contract_valid_until</th>\n",
              "      <th>nation_position</th>\n",
              "      <th>nation_jersey_number</th>\n",
              "      <th>pace</th>\n",
              "      <th>shooting</th>\n",
              "      <th>passing</th>\n",
              "      <th>dribbling</th>\n",
              "      <th>defending</th>\n",
              "      <th>physic</th>\n",
              "      <th>gk_diving</th>\n",
              "      <th>gk_handling</th>\n",
              "      <th>gk_kicking</th>\n",
              "      <th>...</th>\n",
              "      <th>mentality_aggression</th>\n",
              "      <th>mentality_interceptions</th>\n",
              "      <th>mentality_positioning</th>\n",
              "      <th>mentality_vision</th>\n",
              "      <th>mentality_penalties</th>\n",
              "      <th>mentality_composure</th>\n",
              "      <th>defending_marking</th>\n",
              "      <th>defending_standing_tackle</th>\n",
              "      <th>defending_sliding_tackle</th>\n",
              "      <th>goalkeeping_diving</th>\n",
              "      <th>goalkeeping_handling</th>\n",
              "      <th>goalkeeping_kicking</th>\n",
              "      <th>goalkeeping_positioning</th>\n",
              "      <th>goalkeeping_reflexes</th>\n",
              "      <th>ls</th>\n",
              "      <th>st</th>\n",
              "      <th>rs</th>\n",
              "      <th>lw</th>\n",
              "      <th>lf</th>\n",
              "      <th>cf</th>\n",
              "      <th>rf</th>\n",
              "      <th>rw</th>\n",
              "      <th>lam</th>\n",
              "      <th>cam</th>\n",
              "      <th>ram</th>\n",
              "      <th>lm</th>\n",
              "      <th>lcm</th>\n",
              "      <th>cm</th>\n",
              "      <th>rcm</th>\n",
              "      <th>rm</th>\n",
              "      <th>lwb</th>\n",
              "      <th>ldm</th>\n",
              "      <th>cdm</th>\n",
              "      <th>rdm</th>\n",
              "      <th>rwb</th>\n",
              "      <th>lb</th>\n",
              "      <th>lcb</th>\n",
              "      <th>cb</th>\n",
              "      <th>rcb</th>\n",
              "      <th>rb</th>\n",
              "    </tr>\n",
              "  </thead>\n",
              "  <tbody>\n",
              "    <tr>\n",
              "      <th>0</th>\n",
              "      <td>158023</td>\n",
              "      <td>https://sofifa.com/player/158023/lionel-messi/...</td>\n",
              "      <td>L. Messi</td>\n",
              "      <td>Lionel Andrés Messi Cuccittini</td>\n",
              "      <td>32</td>\n",
              "      <td>1987-06-24</td>\n",
              "      <td>170</td>\n",
              "      <td>72</td>\n",
              "      <td>Argentina</td>\n",
              "      <td>FC Barcelona</td>\n",
              "      <td>94</td>\n",
              "      <td>94</td>\n",
              "      <td>95500000</td>\n",
              "      <td>565000</td>\n",
              "      <td>RW, CF, ST</td>\n",
              "      <td>Left</td>\n",
              "      <td>5</td>\n",
              "      <td>4</td>\n",
              "      <td>4</td>\n",
              "      <td>Medium/Low</td>\n",
              "      <td>Messi</td>\n",
              "      <td>Yes</td>\n",
              "      <td>195800000.0</td>\n",
              "      <td>#Dribbler, #Distance Shooter, #Crosser, #FK Sp...</td>\n",
              "      <td>RW</td>\n",
              "      <td>10.0</td>\n",
              "      <td>NaN</td>\n",
              "      <td>2004-07-01</td>\n",
              "      <td>2021.0</td>\n",
              "      <td>NaN</td>\n",
              "      <td>NaN</td>\n",
              "      <td>87.0</td>\n",
              "      <td>92.0</td>\n",
              "      <td>92.0</td>\n",
              "      <td>96.0</td>\n",
              "      <td>39.0</td>\n",
              "      <td>66.0</td>\n",
              "      <td>NaN</td>\n",
              "      <td>NaN</td>\n",
              "      <td>NaN</td>\n",
              "      <td>...</td>\n",
              "      <td>48</td>\n",
              "      <td>40</td>\n",
              "      <td>94</td>\n",
              "      <td>94</td>\n",
              "      <td>75</td>\n",
              "      <td>96</td>\n",
              "      <td>33</td>\n",
              "      <td>37</td>\n",
              "      <td>26</td>\n",
              "      <td>6</td>\n",
              "      <td>11</td>\n",
              "      <td>15</td>\n",
              "      <td>14</td>\n",
              "      <td>8</td>\n",
              "      <td>89+2</td>\n",
              "      <td>89+2</td>\n",
              "      <td>89+2</td>\n",
              "      <td>93+2</td>\n",
              "      <td>93+2</td>\n",
              "      <td>93+2</td>\n",
              "      <td>93+2</td>\n",
              "      <td>93+2</td>\n",
              "      <td>93+2</td>\n",
              "      <td>93+2</td>\n",
              "      <td>93+2</td>\n",
              "      <td>92+2</td>\n",
              "      <td>87+2</td>\n",
              "      <td>87+2</td>\n",
              "      <td>87+2</td>\n",
              "      <td>92+2</td>\n",
              "      <td>68+2</td>\n",
              "      <td>66+2</td>\n",
              "      <td>66+2</td>\n",
              "      <td>66+2</td>\n",
              "      <td>68+2</td>\n",
              "      <td>63+2</td>\n",
              "      <td>52+2</td>\n",
              "      <td>52+2</td>\n",
              "      <td>52+2</td>\n",
              "      <td>63+2</td>\n",
              "    </tr>\n",
              "    <tr>\n",
              "      <th>1</th>\n",
              "      <td>20801</td>\n",
              "      <td>https://sofifa.com/player/20801/c-ronaldo-dos-...</td>\n",
              "      <td>Cristiano Ronaldo</td>\n",
              "      <td>Cristiano Ronaldo dos Santos Aveiro</td>\n",
              "      <td>34</td>\n",
              "      <td>1985-02-05</td>\n",
              "      <td>187</td>\n",
              "      <td>83</td>\n",
              "      <td>Portugal</td>\n",
              "      <td>Juventus</td>\n",
              "      <td>93</td>\n",
              "      <td>93</td>\n",
              "      <td>58500000</td>\n",
              "      <td>405000</td>\n",
              "      <td>ST, LW</td>\n",
              "      <td>Right</td>\n",
              "      <td>5</td>\n",
              "      <td>4</td>\n",
              "      <td>5</td>\n",
              "      <td>High/Low</td>\n",
              "      <td>C. Ronaldo</td>\n",
              "      <td>Yes</td>\n",
              "      <td>96500000.0</td>\n",
              "      <td>#Speedster, #Dribbler, #Distance Shooter, #Acr...</td>\n",
              "      <td>LW</td>\n",
              "      <td>7.0</td>\n",
              "      <td>NaN</td>\n",
              "      <td>2018-07-10</td>\n",
              "      <td>2022.0</td>\n",
              "      <td>LS</td>\n",
              "      <td>7.0</td>\n",
              "      <td>90.0</td>\n",
              "      <td>93.0</td>\n",
              "      <td>82.0</td>\n",
              "      <td>89.0</td>\n",
              "      <td>35.0</td>\n",
              "      <td>78.0</td>\n",
              "      <td>NaN</td>\n",
              "      <td>NaN</td>\n",
              "      <td>NaN</td>\n",
              "      <td>...</td>\n",
              "      <td>63</td>\n",
              "      <td>29</td>\n",
              "      <td>95</td>\n",
              "      <td>82</td>\n",
              "      <td>85</td>\n",
              "      <td>95</td>\n",
              "      <td>28</td>\n",
              "      <td>32</td>\n",
              "      <td>24</td>\n",
              "      <td>7</td>\n",
              "      <td>11</td>\n",
              "      <td>15</td>\n",
              "      <td>14</td>\n",
              "      <td>11</td>\n",
              "      <td>91+3</td>\n",
              "      <td>91+3</td>\n",
              "      <td>91+3</td>\n",
              "      <td>89+3</td>\n",
              "      <td>90+3</td>\n",
              "      <td>90+3</td>\n",
              "      <td>90+3</td>\n",
              "      <td>89+3</td>\n",
              "      <td>88+3</td>\n",
              "      <td>88+3</td>\n",
              "      <td>88+3</td>\n",
              "      <td>88+3</td>\n",
              "      <td>81+3</td>\n",
              "      <td>81+3</td>\n",
              "      <td>81+3</td>\n",
              "      <td>88+3</td>\n",
              "      <td>65+3</td>\n",
              "      <td>61+3</td>\n",
              "      <td>61+3</td>\n",
              "      <td>61+3</td>\n",
              "      <td>65+3</td>\n",
              "      <td>61+3</td>\n",
              "      <td>53+3</td>\n",
              "      <td>53+3</td>\n",
              "      <td>53+3</td>\n",
              "      <td>61+3</td>\n",
              "    </tr>\n",
              "    <tr>\n",
              "      <th>2</th>\n",
              "      <td>190871</td>\n",
              "      <td>https://sofifa.com/player/190871/neymar-da-sil...</td>\n",
              "      <td>Neymar Jr</td>\n",
              "      <td>Neymar da Silva Santos Junior</td>\n",
              "      <td>27</td>\n",
              "      <td>1992-02-05</td>\n",
              "      <td>175</td>\n",
              "      <td>68</td>\n",
              "      <td>Brazil</td>\n",
              "      <td>Paris Saint-Germain</td>\n",
              "      <td>92</td>\n",
              "      <td>92</td>\n",
              "      <td>105500000</td>\n",
              "      <td>290000</td>\n",
              "      <td>LW, CAM</td>\n",
              "      <td>Right</td>\n",
              "      <td>5</td>\n",
              "      <td>5</td>\n",
              "      <td>5</td>\n",
              "      <td>High/Medium</td>\n",
              "      <td>Neymar</td>\n",
              "      <td>Yes</td>\n",
              "      <td>195200000.0</td>\n",
              "      <td>#Speedster, #Dribbler, #Playmaker  , #Crosser,...</td>\n",
              "      <td>CAM</td>\n",
              "      <td>10.0</td>\n",
              "      <td>NaN</td>\n",
              "      <td>2017-08-03</td>\n",
              "      <td>2022.0</td>\n",
              "      <td>LW</td>\n",
              "      <td>10.0</td>\n",
              "      <td>91.0</td>\n",
              "      <td>85.0</td>\n",
              "      <td>87.0</td>\n",
              "      <td>95.0</td>\n",
              "      <td>32.0</td>\n",
              "      <td>58.0</td>\n",
              "      <td>NaN</td>\n",
              "      <td>NaN</td>\n",
              "      <td>NaN</td>\n",
              "      <td>...</td>\n",
              "      <td>51</td>\n",
              "      <td>36</td>\n",
              "      <td>87</td>\n",
              "      <td>90</td>\n",
              "      <td>90</td>\n",
              "      <td>94</td>\n",
              "      <td>27</td>\n",
              "      <td>26</td>\n",
              "      <td>29</td>\n",
              "      <td>9</td>\n",
              "      <td>9</td>\n",
              "      <td>15</td>\n",
              "      <td>15</td>\n",
              "      <td>11</td>\n",
              "      <td>84+3</td>\n",
              "      <td>84+3</td>\n",
              "      <td>84+3</td>\n",
              "      <td>90+3</td>\n",
              "      <td>89+3</td>\n",
              "      <td>89+3</td>\n",
              "      <td>89+3</td>\n",
              "      <td>90+3</td>\n",
              "      <td>90+3</td>\n",
              "      <td>90+3</td>\n",
              "      <td>90+3</td>\n",
              "      <td>89+3</td>\n",
              "      <td>82+3</td>\n",
              "      <td>82+3</td>\n",
              "      <td>82+3</td>\n",
              "      <td>89+3</td>\n",
              "      <td>66+3</td>\n",
              "      <td>61+3</td>\n",
              "      <td>61+3</td>\n",
              "      <td>61+3</td>\n",
              "      <td>66+3</td>\n",
              "      <td>61+3</td>\n",
              "      <td>46+3</td>\n",
              "      <td>46+3</td>\n",
              "      <td>46+3</td>\n",
              "      <td>61+3</td>\n",
              "    </tr>\n",
              "    <tr>\n",
              "      <th>3</th>\n",
              "      <td>200389</td>\n",
              "      <td>https://sofifa.com/player/200389/jan-oblak/20/...</td>\n",
              "      <td>J. Oblak</td>\n",
              "      <td>Jan Oblak</td>\n",
              "      <td>26</td>\n",
              "      <td>1993-01-07</td>\n",
              "      <td>188</td>\n",
              "      <td>87</td>\n",
              "      <td>Slovenia</td>\n",
              "      <td>Atlético Madrid</td>\n",
              "      <td>91</td>\n",
              "      <td>93</td>\n",
              "      <td>77500000</td>\n",
              "      <td>125000</td>\n",
              "      <td>GK</td>\n",
              "      <td>Right</td>\n",
              "      <td>3</td>\n",
              "      <td>3</td>\n",
              "      <td>1</td>\n",
              "      <td>Medium/Medium</td>\n",
              "      <td>Normal</td>\n",
              "      <td>Yes</td>\n",
              "      <td>164700000.0</td>\n",
              "      <td>NaN</td>\n",
              "      <td>GK</td>\n",
              "      <td>13.0</td>\n",
              "      <td>NaN</td>\n",
              "      <td>2014-07-16</td>\n",
              "      <td>2023.0</td>\n",
              "      <td>GK</td>\n",
              "      <td>1.0</td>\n",
              "      <td>NaN</td>\n",
              "      <td>NaN</td>\n",
              "      <td>NaN</td>\n",
              "      <td>NaN</td>\n",
              "      <td>NaN</td>\n",
              "      <td>NaN</td>\n",
              "      <td>87.0</td>\n",
              "      <td>92.0</td>\n",
              "      <td>78.0</td>\n",
              "      <td>...</td>\n",
              "      <td>34</td>\n",
              "      <td>19</td>\n",
              "      <td>11</td>\n",
              "      <td>65</td>\n",
              "      <td>11</td>\n",
              "      <td>68</td>\n",
              "      <td>27</td>\n",
              "      <td>12</td>\n",
              "      <td>18</td>\n",
              "      <td>87</td>\n",
              "      <td>92</td>\n",
              "      <td>78</td>\n",
              "      <td>90</td>\n",
              "      <td>89</td>\n",
              "      <td>NaN</td>\n",
              "      <td>NaN</td>\n",
              "      <td>NaN</td>\n",
              "      <td>NaN</td>\n",
              "      <td>NaN</td>\n",
              "      <td>NaN</td>\n",
              "      <td>NaN</td>\n",
              "      <td>NaN</td>\n",
              "      <td>NaN</td>\n",
              "      <td>NaN</td>\n",
              "      <td>NaN</td>\n",
              "      <td>NaN</td>\n",
              "      <td>NaN</td>\n",
              "      <td>NaN</td>\n",
              "      <td>NaN</td>\n",
              "      <td>NaN</td>\n",
              "      <td>NaN</td>\n",
              "      <td>NaN</td>\n",
              "      <td>NaN</td>\n",
              "      <td>NaN</td>\n",
              "      <td>NaN</td>\n",
              "      <td>NaN</td>\n",
              "      <td>NaN</td>\n",
              "      <td>NaN</td>\n",
              "      <td>NaN</td>\n",
              "      <td>NaN</td>\n",
              "    </tr>\n",
              "    <tr>\n",
              "      <th>4</th>\n",
              "      <td>183277</td>\n",
              "      <td>https://sofifa.com/player/183277/eden-hazard/2...</td>\n",
              "      <td>E. Hazard</td>\n",
              "      <td>Eden Hazard</td>\n",
              "      <td>28</td>\n",
              "      <td>1991-01-07</td>\n",
              "      <td>175</td>\n",
              "      <td>74</td>\n",
              "      <td>Belgium</td>\n",
              "      <td>Real Madrid</td>\n",
              "      <td>91</td>\n",
              "      <td>91</td>\n",
              "      <td>90000000</td>\n",
              "      <td>470000</td>\n",
              "      <td>LW, CF</td>\n",
              "      <td>Right</td>\n",
              "      <td>4</td>\n",
              "      <td>4</td>\n",
              "      <td>4</td>\n",
              "      <td>High/Medium</td>\n",
              "      <td>Normal</td>\n",
              "      <td>Yes</td>\n",
              "      <td>184500000.0</td>\n",
              "      <td>#Speedster, #Dribbler, #Acrobat</td>\n",
              "      <td>LW</td>\n",
              "      <td>7.0</td>\n",
              "      <td>NaN</td>\n",
              "      <td>2019-07-01</td>\n",
              "      <td>2024.0</td>\n",
              "      <td>LF</td>\n",
              "      <td>10.0</td>\n",
              "      <td>91.0</td>\n",
              "      <td>83.0</td>\n",
              "      <td>86.0</td>\n",
              "      <td>94.0</td>\n",
              "      <td>35.0</td>\n",
              "      <td>66.0</td>\n",
              "      <td>NaN</td>\n",
              "      <td>NaN</td>\n",
              "      <td>NaN</td>\n",
              "      <td>...</td>\n",
              "      <td>54</td>\n",
              "      <td>41</td>\n",
              "      <td>87</td>\n",
              "      <td>89</td>\n",
              "      <td>88</td>\n",
              "      <td>91</td>\n",
              "      <td>34</td>\n",
              "      <td>27</td>\n",
              "      <td>22</td>\n",
              "      <td>11</td>\n",
              "      <td>12</td>\n",
              "      <td>6</td>\n",
              "      <td>8</td>\n",
              "      <td>8</td>\n",
              "      <td>83+3</td>\n",
              "      <td>83+3</td>\n",
              "      <td>83+3</td>\n",
              "      <td>89+3</td>\n",
              "      <td>88+3</td>\n",
              "      <td>88+3</td>\n",
              "      <td>88+3</td>\n",
              "      <td>89+3</td>\n",
              "      <td>89+3</td>\n",
              "      <td>89+3</td>\n",
              "      <td>89+3</td>\n",
              "      <td>89+3</td>\n",
              "      <td>83+3</td>\n",
              "      <td>83+3</td>\n",
              "      <td>83+3</td>\n",
              "      <td>89+3</td>\n",
              "      <td>66+3</td>\n",
              "      <td>63+3</td>\n",
              "      <td>63+3</td>\n",
              "      <td>63+3</td>\n",
              "      <td>66+3</td>\n",
              "      <td>61+3</td>\n",
              "      <td>49+3</td>\n",
              "      <td>49+3</td>\n",
              "      <td>49+3</td>\n",
              "      <td>61+3</td>\n",
              "    </tr>\n",
              "  </tbody>\n",
              "</table>\n",
              "<p>5 rows × 104 columns</p>\n",
              "</div>"
            ],
            "text/plain": [
              "   sofifa_id                                         player_url  ...   rcb    rb\n",
              "0     158023  https://sofifa.com/player/158023/lionel-messi/...  ...  52+2  63+2\n",
              "1      20801  https://sofifa.com/player/20801/c-ronaldo-dos-...  ...  53+3  61+3\n",
              "2     190871  https://sofifa.com/player/190871/neymar-da-sil...  ...  46+3  61+3\n",
              "3     200389  https://sofifa.com/player/200389/jan-oblak/20/...  ...   NaN   NaN\n",
              "4     183277  https://sofifa.com/player/183277/eden-hazard/2...  ...  49+3  61+3\n",
              "\n",
              "[5 rows x 104 columns]"
            ]
          },
          "metadata": {
            "tags": []
          },
          "execution_count": 32
        }
      ]
    },
    {
      "cell_type": "code",
      "metadata": {
        "colab": {
          "base_uri": "https://localhost:8080/"
        },
        "id": "zfplNIVZtfIB",
        "outputId": "008e9299-f823-4b13-96a3-eda6bd458564"
      },
      "source": [
        "df.shape"
      ],
      "execution_count": null,
      "outputs": [
        {
          "output_type": "execute_result",
          "data": {
            "text/plain": [
              "(18278, 104)"
            ]
          },
          "metadata": {
            "tags": []
          },
          "execution_count": 33
        }
      ]
    },
    {
      "cell_type": "code",
      "metadata": {
        "colab": {
          "base_uri": "https://localhost:8080/"
        },
        "id": "YP3ToADbthP2",
        "outputId": "5976548e-1ca7-4ff7-e97e-50d101ad0910"
      },
      "source": [
        "df.info()"
      ],
      "execution_count": null,
      "outputs": [
        {
          "output_type": "stream",
          "text": [
            "<class 'pandas.core.frame.DataFrame'>\n",
            "RangeIndex: 18278 entries, 0 to 18277\n",
            "Columns: 104 entries, sofifa_id to rb\n",
            "dtypes: float64(16), int64(45), object(43)\n",
            "memory usage: 14.5+ MB\n"
          ],
          "name": "stdout"
        }
      ]
    },
    {
      "cell_type": "code",
      "metadata": {
        "colab": {
          "base_uri": "https://localhost:8080/"
        },
        "id": "D_Zm04zBtkz2",
        "outputId": "5a2f9fe1-4c94-47cd-9836-75b706b69357"
      },
      "source": [
        "df.isnull().sum()"
      ],
      "execution_count": null,
      "outputs": [
        {
          "output_type": "execute_result",
          "data": {
            "text/plain": [
              "sofifa_id        0\n",
              "player_url       0\n",
              "short_name       0\n",
              "long_name        0\n",
              "age              0\n",
              "              ... \n",
              "lb            2036\n",
              "lcb           2036\n",
              "cb            2036\n",
              "rcb           2036\n",
              "rb            2036\n",
              "Length: 104, dtype: int64"
            ]
          },
          "metadata": {
            "tags": []
          },
          "execution_count": 35
        }
      ]
    },
    {
      "cell_type": "code",
      "metadata": {
        "colab": {
          "base_uri": "https://localhost:8080/"
        },
        "id": "5lwLb6mqt5F4",
        "outputId": "f2ac9956-852b-4ad9-b3f0-c670c4f1fd32"
      },
      "source": [
        "df_missing = df.isna()\n",
        "df_missing\n",
        "df_missingsum = df_missing.sum()\n",
        "df_missingsum\n",
        "(df_missingsum/len(df))*100\n",
        "df.isna().mean().round(4)*100"
      ],
      "execution_count": null,
      "outputs": [
        {
          "output_type": "execute_result",
          "data": {
            "text/plain": [
              "sofifa_id      0.00\n",
              "player_url     0.00\n",
              "short_name     0.00\n",
              "long_name      0.00\n",
              "age            0.00\n",
              "              ...  \n",
              "lb            11.14\n",
              "lcb           11.14\n",
              "cb            11.14\n",
              "rcb           11.14\n",
              "rb            11.14\n",
              "Length: 104, dtype: float64"
            ]
          },
          "metadata": {
            "tags": []
          },
          "execution_count": 36
        }
      ]
    },
    {
      "cell_type": "code",
      "metadata": {
        "id": "9rPCKtr4uFIJ"
      },
      "source": [
        "df.drop(df.columns[43:],axis=1,inplace=True)\n",
        "df.drop(df.columns[20:24],axis=1,inplace=True)\n",
        "df.drop(df.columns[22:24],axis=1,inplace=True)\n",
        "df.drop(df.columns[11:14],axis=1,inplace=True)\n",
        "df.drop(df.columns[5:7],axis=1,inplace=True)\n",
        "df.drop(df.columns[3],axis=1,inplace=True)"
      ],
      "execution_count": null,
      "outputs": []
    },
    {
      "cell_type": "code",
      "metadata": {
        "id": "1x9u3_rauKpp"
      },
      "source": [
        "df.drop(['team_jersey_number','nation_jersey_number'],axis=1,inplace=True)\n",
        "del df['player_url']\n",
        "del df['contract_valid_until']"
      ],
      "execution_count": null,
      "outputs": []
    },
    {
      "cell_type": "code",
      "metadata": {
        "id": "2sOpPCDBuM34"
      },
      "source": [
        "df['gk_diving']=df.gk_diving.fillna(df.gk_diving.mean())\n",
        "df['gk_handling']=df.gk_handling.fillna(df.gk_handling.mean())\n",
        "df['gk_kicking']=df.gk_kicking.fillna(df.gk_kicking.mean())\n",
        "df['gk_reflexes']=df.gk_reflexes.fillna(df.gk_reflexes.mean())\n",
        "df['gk_speed']=df.gk_speed.fillna(df.gk_speed.mean())\n",
        "df['gk_positioning']=df.gk_positioning.fillna(df.gk_positioning.mean())\n",
        "df['pace']=df.pace.fillna(df.pace.mean())\n",
        "df['shooting']=df.shooting.fillna(df.shooting.mean())\n",
        "df['passing']=df.passing.fillna(df.passing.mean())\n",
        "df['defending']=df.defending.fillna(df.defending.mean())\n",
        "df['physic']=df.physic.fillna(df.physic.mean())\n",
        "df['dribbling']=df.dribbling.fillna(df.dribbling.mean())\n",
        "\n",
        "df['nation_position']=df.nation_position.fillna(df.nation_position.value_counts().index[0])\n",
        "df['team_position']=df.team_position.fillna(df.team_position.value_counts().index[0])"
      ],
      "execution_count": null,
      "outputs": []
    },
    {
      "cell_type": "code",
      "metadata": {
        "colab": {
          "base_uri": "https://localhost:8080/"
        },
        "id": "S7mwLO3Euo92",
        "outputId": "0da5bf57-2970-4c77-c140-4cbafaf35877"
      },
      "source": [
        "df.isnull().sum()"
      ],
      "execution_count": null,
      "outputs": [
        {
          "output_type": "execute_result",
          "data": {
            "text/plain": [
              "sofifa_id                   0\n",
              "short_name                  0\n",
              "age                         0\n",
              "weight_kg                   0\n",
              "nationality                 0\n",
              "club                        0\n",
              "overall                     0\n",
              "player_positions            0\n",
              "preferred_foot              0\n",
              "international_reputation    0\n",
              "weak_foot                   0\n",
              "skill_moves                 0\n",
              "work_rate                   0\n",
              "team_position               0\n",
              "nation_position             0\n",
              "pace                        0\n",
              "shooting                    0\n",
              "passing                     0\n",
              "dribbling                   0\n",
              "defending                   0\n",
              "physic                      0\n",
              "gk_diving                   0\n",
              "gk_handling                 0\n",
              "gk_kicking                  0\n",
              "gk_reflexes                 0\n",
              "gk_speed                    0\n",
              "gk_positioning              0\n",
              "dtype: int64"
            ]
          },
          "metadata": {
            "tags": []
          },
          "execution_count": 40
        }
      ]
    },
    {
      "cell_type": "code",
      "metadata": {
        "colab": {
          "base_uri": "https://localhost:8080/",
          "height": 322
        },
        "id": "frJblGeiuryg",
        "outputId": "bcb732bf-67d1-4f9e-867a-7c3dae0c83ba"
      },
      "source": [
        "df.head()"
      ],
      "execution_count": null,
      "outputs": [
        {
          "output_type": "execute_result",
          "data": {
            "text/html": [
              "<div>\n",
              "<style scoped>\n",
              "    .dataframe tbody tr th:only-of-type {\n",
              "        vertical-align: middle;\n",
              "    }\n",
              "\n",
              "    .dataframe tbody tr th {\n",
              "        vertical-align: top;\n",
              "    }\n",
              "\n",
              "    .dataframe thead th {\n",
              "        text-align: right;\n",
              "    }\n",
              "</style>\n",
              "<table border=\"1\" class=\"dataframe\">\n",
              "  <thead>\n",
              "    <tr style=\"text-align: right;\">\n",
              "      <th></th>\n",
              "      <th>sofifa_id</th>\n",
              "      <th>short_name</th>\n",
              "      <th>age</th>\n",
              "      <th>weight_kg</th>\n",
              "      <th>nationality</th>\n",
              "      <th>club</th>\n",
              "      <th>overall</th>\n",
              "      <th>player_positions</th>\n",
              "      <th>preferred_foot</th>\n",
              "      <th>international_reputation</th>\n",
              "      <th>weak_foot</th>\n",
              "      <th>skill_moves</th>\n",
              "      <th>work_rate</th>\n",
              "      <th>team_position</th>\n",
              "      <th>nation_position</th>\n",
              "      <th>pace</th>\n",
              "      <th>shooting</th>\n",
              "      <th>passing</th>\n",
              "      <th>dribbling</th>\n",
              "      <th>defending</th>\n",
              "      <th>physic</th>\n",
              "      <th>gk_diving</th>\n",
              "      <th>gk_handling</th>\n",
              "      <th>gk_kicking</th>\n",
              "      <th>gk_reflexes</th>\n",
              "      <th>gk_speed</th>\n",
              "      <th>gk_positioning</th>\n",
              "    </tr>\n",
              "  </thead>\n",
              "  <tbody>\n",
              "    <tr>\n",
              "      <th>0</th>\n",
              "      <td>158023</td>\n",
              "      <td>L. Messi</td>\n",
              "      <td>32</td>\n",
              "      <td>72</td>\n",
              "      <td>Argentina</td>\n",
              "      <td>FC Barcelona</td>\n",
              "      <td>94</td>\n",
              "      <td>RW, CF, ST</td>\n",
              "      <td>Left</td>\n",
              "      <td>5</td>\n",
              "      <td>4</td>\n",
              "      <td>4</td>\n",
              "      <td>Medium/Low</td>\n",
              "      <td>RW</td>\n",
              "      <td>SUB</td>\n",
              "      <td>87.000000</td>\n",
              "      <td>92.000000</td>\n",
              "      <td>92.000000</td>\n",
              "      <td>96.000000</td>\n",
              "      <td>39.000000</td>\n",
              "      <td>66.000000</td>\n",
              "      <td>65.422397</td>\n",
              "      <td>63.146365</td>\n",
              "      <td>61.832515</td>\n",
              "      <td>66.390472</td>\n",
              "      <td>37.798625</td>\n",
              "      <td>63.374754</td>\n",
              "    </tr>\n",
              "    <tr>\n",
              "      <th>1</th>\n",
              "      <td>20801</td>\n",
              "      <td>Cristiano Ronaldo</td>\n",
              "      <td>34</td>\n",
              "      <td>83</td>\n",
              "      <td>Portugal</td>\n",
              "      <td>Juventus</td>\n",
              "      <td>93</td>\n",
              "      <td>ST, LW</td>\n",
              "      <td>Right</td>\n",
              "      <td>5</td>\n",
              "      <td>4</td>\n",
              "      <td>5</td>\n",
              "      <td>High/Low</td>\n",
              "      <td>LW</td>\n",
              "      <td>LS</td>\n",
              "      <td>90.000000</td>\n",
              "      <td>93.000000</td>\n",
              "      <td>82.000000</td>\n",
              "      <td>89.000000</td>\n",
              "      <td>35.000000</td>\n",
              "      <td>78.000000</td>\n",
              "      <td>65.422397</td>\n",
              "      <td>63.146365</td>\n",
              "      <td>61.832515</td>\n",
              "      <td>66.390472</td>\n",
              "      <td>37.798625</td>\n",
              "      <td>63.374754</td>\n",
              "    </tr>\n",
              "    <tr>\n",
              "      <th>2</th>\n",
              "      <td>190871</td>\n",
              "      <td>Neymar Jr</td>\n",
              "      <td>27</td>\n",
              "      <td>68</td>\n",
              "      <td>Brazil</td>\n",
              "      <td>Paris Saint-Germain</td>\n",
              "      <td>92</td>\n",
              "      <td>LW, CAM</td>\n",
              "      <td>Right</td>\n",
              "      <td>5</td>\n",
              "      <td>5</td>\n",
              "      <td>5</td>\n",
              "      <td>High/Medium</td>\n",
              "      <td>CAM</td>\n",
              "      <td>LW</td>\n",
              "      <td>91.000000</td>\n",
              "      <td>85.000000</td>\n",
              "      <td>87.000000</td>\n",
              "      <td>95.000000</td>\n",
              "      <td>32.000000</td>\n",
              "      <td>58.000000</td>\n",
              "      <td>65.422397</td>\n",
              "      <td>63.146365</td>\n",
              "      <td>61.832515</td>\n",
              "      <td>66.390472</td>\n",
              "      <td>37.798625</td>\n",
              "      <td>63.374754</td>\n",
              "    </tr>\n",
              "    <tr>\n",
              "      <th>3</th>\n",
              "      <td>200389</td>\n",
              "      <td>J. Oblak</td>\n",
              "      <td>26</td>\n",
              "      <td>87</td>\n",
              "      <td>Slovenia</td>\n",
              "      <td>Atlético Madrid</td>\n",
              "      <td>91</td>\n",
              "      <td>GK</td>\n",
              "      <td>Right</td>\n",
              "      <td>3</td>\n",
              "      <td>3</td>\n",
              "      <td>1</td>\n",
              "      <td>Medium/Medium</td>\n",
              "      <td>GK</td>\n",
              "      <td>GK</td>\n",
              "      <td>67.700899</td>\n",
              "      <td>52.298301</td>\n",
              "      <td>57.233777</td>\n",
              "      <td>62.531585</td>\n",
              "      <td>51.553503</td>\n",
              "      <td>64.876678</td>\n",
              "      <td>87.000000</td>\n",
              "      <td>92.000000</td>\n",
              "      <td>78.000000</td>\n",
              "      <td>89.000000</td>\n",
              "      <td>52.000000</td>\n",
              "      <td>90.000000</td>\n",
              "    </tr>\n",
              "    <tr>\n",
              "      <th>4</th>\n",
              "      <td>183277</td>\n",
              "      <td>E. Hazard</td>\n",
              "      <td>28</td>\n",
              "      <td>74</td>\n",
              "      <td>Belgium</td>\n",
              "      <td>Real Madrid</td>\n",
              "      <td>91</td>\n",
              "      <td>LW, CF</td>\n",
              "      <td>Right</td>\n",
              "      <td>4</td>\n",
              "      <td>4</td>\n",
              "      <td>4</td>\n",
              "      <td>High/Medium</td>\n",
              "      <td>LW</td>\n",
              "      <td>LF</td>\n",
              "      <td>91.000000</td>\n",
              "      <td>83.000000</td>\n",
              "      <td>86.000000</td>\n",
              "      <td>94.000000</td>\n",
              "      <td>35.000000</td>\n",
              "      <td>66.000000</td>\n",
              "      <td>65.422397</td>\n",
              "      <td>63.146365</td>\n",
              "      <td>61.832515</td>\n",
              "      <td>66.390472</td>\n",
              "      <td>37.798625</td>\n",
              "      <td>63.374754</td>\n",
              "    </tr>\n",
              "  </tbody>\n",
              "</table>\n",
              "</div>"
            ],
            "text/plain": [
              "   sofifa_id         short_name  age  ...  gk_reflexes   gk_speed gk_positioning\n",
              "0     158023           L. Messi   32  ...    66.390472  37.798625      63.374754\n",
              "1      20801  Cristiano Ronaldo   34  ...    66.390472  37.798625      63.374754\n",
              "2     190871          Neymar Jr   27  ...    66.390472  37.798625      63.374754\n",
              "3     200389           J. Oblak   26  ...    89.000000  52.000000      90.000000\n",
              "4     183277          E. Hazard   28  ...    66.390472  37.798625      63.374754\n",
              "\n",
              "[5 rows x 27 columns]"
            ]
          },
          "metadata": {
            "tags": []
          },
          "execution_count": 41
        }
      ]
    },
    {
      "cell_type": "code",
      "metadata": {
        "colab": {
          "base_uri": "https://localhost:8080/",
          "height": 279
        },
        "id": "qMDM89xQvqU1",
        "outputId": "42255d0b-3954-4a16-80db-ece5cf8a1fed"
      },
      "source": [
        "sns.regplot(x='shooting', y='passing', data= df.head(20))\n",
        "plt.show()"
      ],
      "execution_count": null,
      "outputs": [
        {
          "output_type": "display_data",
          "data": {
            "image/png": "[encoded data removed]",
            "text/plain": [
              "<Figure size 432x288 with 1 Axes>"
            ]
          },
          "metadata": {
            "tags": [],
            "needs_background": "light"
          }
        }
      ]
    },
    {
      "cell_type": "code",
      "metadata": {
        "colab": {
          "base_uri": "https://localhost:8080/",
          "height": 279
        },
        "id": "800BfLqByMUv",
        "outputId": "26269c36-3df0-4abc-e63d-71aeac50f4fd"
      },
      "source": [
        "sns.regplot(x='age', y='weight_kg', data= df.head(20))\n",
        "plt.show()"
      ],
      "execution_count": null,
      "outputs": [
        {
          "output_type": "display_data",
          "data": {
            "image/png": "[encoded data removed]",
            "text/plain": [
              "<Figure size 432x288 with 1 Axes>"
            ]
          },
          "metadata": {
            "tags": [],
            "needs_background": "light"
          }
        }
      ]
    },
    {
      "cell_type": "code",
      "metadata": {
        "colab": {
          "base_uri": "https://localhost:8080/",
          "height": 935
        },
        "id": "KVxuqRlO0AXw",
        "outputId": "d4e21b41-3a56-4728-d8af-1ec834825e3e"
      },
      "source": [
        "df.corr()"
      ],
      "execution_count": null,
      "outputs": [
        {
          "output_type": "execute_result",
          "data": {
            "text/html": [
              "<div>\n",
              "<style scoped>\n",
              "    .dataframe tbody tr th:only-of-type {\n",
              "        vertical-align: middle;\n",
              "    }\n",
              "\n",
              "    .dataframe tbody tr th {\n",
              "        vertical-align: top;\n",
              "    }\n",
              "\n",
              "    .dataframe thead th {\n",
              "        text-align: right;\n",
              "    }\n",
              "</style>\n",
              "<table border=\"1\" class=\"dataframe\">\n",
              "  <thead>\n",
              "    <tr style=\"text-align: right;\">\n",
              "      <th></th>\n",
              "      <th>sofifa_id</th>\n",
              "      <th>age</th>\n",
              "      <th>weight_kg</th>\n",
              "      <th>overall</th>\n",
              "      <th>international_reputation</th>\n",
              "      <th>weak_foot</th>\n",
              "      <th>skill_moves</th>\n",
              "      <th>pace</th>\n",
              "      <th>shooting</th>\n",
              "      <th>passing</th>\n",
              "      <th>dribbling</th>\n",
              "      <th>defending</th>\n",
              "      <th>physic</th>\n",
              "      <th>gk_diving</th>\n",
              "      <th>gk_handling</th>\n",
              "      <th>gk_kicking</th>\n",
              "      <th>gk_reflexes</th>\n",
              "      <th>gk_speed</th>\n",
              "      <th>gk_positioning</th>\n",
              "    </tr>\n",
              "  </thead>\n",
              "  <tbody>\n",
              "    <tr>\n",
              "      <th>sofifa_id</th>\n",
              "      <td>1.000000</td>\n",
              "      <td>-0.736680</td>\n",
              "      <td>-0.203620</td>\n",
              "      <td>-0.445061</td>\n",
              "      <td>-0.360765</td>\n",
              "      <td>-0.092250</td>\n",
              "      <td>-7.964529e-02</td>\n",
              "      <td>1.458338e-01</td>\n",
              "      <td>-2.467105e-01</td>\n",
              "      <td>-3.306229e-01</td>\n",
              "      <td>-1.998951e-01</td>\n",
              "      <td>-2.026141e-01</td>\n",
              "      <td>-3.333713e-01</td>\n",
              "      <td>-1.700643e-01</td>\n",
              "      <td>-1.781698e-01</td>\n",
              "      <td>-1.506137e-01</td>\n",
              "      <td>-1.624510e-01</td>\n",
              "      <td>-1.487126e-01</td>\n",
              "      <td>-2.057234e-01</td>\n",
              "    </tr>\n",
              "    <tr>\n",
              "      <th>age</th>\n",
              "      <td>-0.736680</td>\n",
              "      <td>1.000000</td>\n",
              "      <td>0.237169</td>\n",
              "      <td>0.464305</td>\n",
              "      <td>0.259582</td>\n",
              "      <td>0.073988</td>\n",
              "      <td>4.527734e-02</td>\n",
              "      <td>-1.850871e-01</td>\n",
              "      <td>2.198391e-01</td>\n",
              "      <td>3.040220e-01</td>\n",
              "      <td>1.489385e-01</td>\n",
              "      <td>2.391559e-01</td>\n",
              "      <td>4.004104e-01</td>\n",
              "      <td>1.654225e-01</td>\n",
              "      <td>1.796133e-01</td>\n",
              "      <td>1.558595e-01</td>\n",
              "      <td>1.612534e-01</td>\n",
              "      <td>1.301812e-01</td>\n",
              "      <td>2.118678e-01</td>\n",
              "    </tr>\n",
              "    <tr>\n",
              "      <th>weight_kg</th>\n",
              "      <td>-0.203620</td>\n",
              "      <td>0.237169</td>\n",
              "      <td>1.000000</td>\n",
              "      <td>0.156522</td>\n",
              "      <td>0.090854</td>\n",
              "      <td>-0.128568</td>\n",
              "      <td>-3.520595e-01</td>\n",
              "      <td>-3.465204e-01</td>\n",
              "      <td>-8.542843e-02</td>\n",
              "      <td>-1.635212e-01</td>\n",
              "      <td>-2.692335e-01</td>\n",
              "      <td>1.956328e-01</td>\n",
              "      <td>5.209128e-01</td>\n",
              "      <td>7.476624e-02</td>\n",
              "      <td>7.905562e-02</td>\n",
              "      <td>6.249361e-02</td>\n",
              "      <td>7.180976e-02</td>\n",
              "      <td>2.299359e-02</td>\n",
              "      <td>8.425207e-02</td>\n",
              "    </tr>\n",
              "    <tr>\n",
              "      <th>overall</th>\n",
              "      <td>-0.445061</td>\n",
              "      <td>0.464305</td>\n",
              "      <td>0.156522</td>\n",
              "      <td>1.000000</td>\n",
              "      <td>0.475557</td>\n",
              "      <td>0.230276</td>\n",
              "      <td>4.012614e-01</td>\n",
              "      <td>1.474359e-01</td>\n",
              "      <td>4.620607e-01</td>\n",
              "      <td>6.347467e-01</td>\n",
              "      <td>5.579364e-01</td>\n",
              "      <td>3.107051e-01</td>\n",
              "      <td>4.800028e-01</td>\n",
              "      <td>3.464135e-01</td>\n",
              "      <td>3.376930e-01</td>\n",
              "      <td>2.887301e-01</td>\n",
              "      <td>3.460157e-01</td>\n",
              "      <td>1.754686e-01</td>\n",
              "      <td>3.448969e-01</td>\n",
              "    </tr>\n",
              "    <tr>\n",
              "      <th>international_reputation</th>\n",
              "      <td>-0.360765</td>\n",
              "      <td>0.259582</td>\n",
              "      <td>0.090854</td>\n",
              "      <td>0.475557</td>\n",
              "      <td>1.000000</td>\n",
              "      <td>0.127792</td>\n",
              "      <td>1.996960e-01</td>\n",
              "      <td>4.098863e-03</td>\n",
              "      <td>2.603773e-01</td>\n",
              "      <td>3.370265e-01</td>\n",
              "      <td>2.814104e-01</td>\n",
              "      <td>1.315097e-01</td>\n",
              "      <td>1.677239e-01</td>\n",
              "      <td>1.370052e-01</td>\n",
              "      <td>1.425324e-01</td>\n",
              "      <td>1.143349e-01</td>\n",
              "      <td>1.349083e-01</td>\n",
              "      <td>7.294336e-02</td>\n",
              "      <td>1.387632e-01</td>\n",
              "    </tr>\n",
              "    <tr>\n",
              "      <th>weak_foot</th>\n",
              "      <td>-0.092250</td>\n",
              "      <td>0.073988</td>\n",
              "      <td>-0.128568</td>\n",
              "      <td>0.230276</td>\n",
              "      <td>0.127792</td>\n",
              "      <td>1.000000</td>\n",
              "      <td>3.438953e-01</td>\n",
              "      <td>1.344163e-01</td>\n",
              "      <td>2.887245e-01</td>\n",
              "      <td>2.546486e-01</td>\n",
              "      <td>2.803886e-01</td>\n",
              "      <td>-9.580514e-02</td>\n",
              "      <td>8.616408e-04</td>\n",
              "      <td>5.620648e-02</td>\n",
              "      <td>5.504883e-02</td>\n",
              "      <td>7.568232e-02</td>\n",
              "      <td>5.305726e-02</td>\n",
              "      <td>3.582256e-02</td>\n",
              "      <td>5.136697e-02</td>\n",
              "    </tr>\n",
              "    <tr>\n",
              "      <th>skill_moves</th>\n",
              "      <td>-0.079645</td>\n",
              "      <td>0.045277</td>\n",
              "      <td>-0.352060</td>\n",
              "      <td>0.401261</td>\n",
              "      <td>0.199696</td>\n",
              "      <td>0.343895</td>\n",
              "      <td>1.000000e+00</td>\n",
              "      <td>3.257830e-01</td>\n",
              "      <td>4.837851e-01</td>\n",
              "      <td>4.736746e-01</td>\n",
              "      <td>5.533167e-01</td>\n",
              "      <td>-1.620227e-01</td>\n",
              "      <td>-5.164787e-02</td>\n",
              "      <td>9.644054e-14</td>\n",
              "      <td>-8.542557e-14</td>\n",
              "      <td>-5.051290e-14</td>\n",
              "      <td>-3.171823e-14</td>\n",
              "      <td>1.036995e-14</td>\n",
              "      <td>1.196750e-14</td>\n",
              "    </tr>\n",
              "    <tr>\n",
              "      <th>pace</th>\n",
              "      <td>0.145834</td>\n",
              "      <td>-0.185087</td>\n",
              "      <td>-0.346520</td>\n",
              "      <td>0.147436</td>\n",
              "      <td>0.004099</td>\n",
              "      <td>0.134416</td>\n",
              "      <td>3.257830e-01</td>\n",
              "      <td>1.000000e+00</td>\n",
              "      <td>3.501007e-01</td>\n",
              "      <td>2.897376e-01</td>\n",
              "      <td>5.485265e-01</td>\n",
              "      <td>-3.043515e-01</td>\n",
              "      <td>-1.961588e-01</td>\n",
              "      <td>1.048610e-24</td>\n",
              "      <td>-1.902367e-25</td>\n",
              "      <td>1.181293e-24</td>\n",
              "      <td>-3.053086e-25</td>\n",
              "      <td>-1.796087e-25</td>\n",
              "      <td>2.007761e-24</td>\n",
              "    </tr>\n",
              "    <tr>\n",
              "      <th>shooting</th>\n",
              "      <td>-0.246711</td>\n",
              "      <td>0.219839</td>\n",
              "      <td>-0.085428</td>\n",
              "      <td>0.462061</td>\n",
              "      <td>0.260377</td>\n",
              "      <td>0.288725</td>\n",
              "      <td>4.837851e-01</td>\n",
              "      <td>3.501007e-01</td>\n",
              "      <td>1.000000e+00</td>\n",
              "      <td>6.547488e-01</td>\n",
              "      <td>7.672107e-01</td>\n",
              "      <td>-4.086291e-01</td>\n",
              "      <td>4.789621e-03</td>\n",
              "      <td>3.269617e-25</td>\n",
              "      <td>-6.684160e-26</td>\n",
              "      <td>6.761366e-25</td>\n",
              "      <td>-5.348628e-26</td>\n",
              "      <td>2.165368e-26</td>\n",
              "      <td>1.688764e-25</td>\n",
              "    </tr>\n",
              "    <tr>\n",
              "      <th>passing</th>\n",
              "      <td>-0.330623</td>\n",
              "      <td>0.304022</td>\n",
              "      <td>-0.163521</td>\n",
              "      <td>0.634747</td>\n",
              "      <td>0.337026</td>\n",
              "      <td>0.254649</td>\n",
              "      <td>4.736746e-01</td>\n",
              "      <td>2.897376e-01</td>\n",
              "      <td>6.547488e-01</td>\n",
              "      <td>1.000000e+00</td>\n",
              "      <td>8.299845e-01</td>\n",
              "      <td>1.556989e-01</td>\n",
              "      <td>1.323946e-01</td>\n",
              "      <td>9.715574e-25</td>\n",
              "      <td>-1.009799e-26</td>\n",
              "      <td>1.023846e-25</td>\n",
              "      <td>-4.093470e-26</td>\n",
              "      <td>4.404780e-26</td>\n",
              "      <td>4.908314e-25</td>\n",
              "    </tr>\n",
              "    <tr>\n",
              "      <th>dribbling</th>\n",
              "      <td>-0.199895</td>\n",
              "      <td>0.148939</td>\n",
              "      <td>-0.269234</td>\n",
              "      <td>0.557936</td>\n",
              "      <td>0.281410</td>\n",
              "      <td>0.280389</td>\n",
              "      <td>5.533167e-01</td>\n",
              "      <td>5.485265e-01</td>\n",
              "      <td>7.672107e-01</td>\n",
              "      <td>8.299845e-01</td>\n",
              "      <td>1.000000e+00</td>\n",
              "      <td>-1.685492e-01</td>\n",
              "      <td>-4.419646e-02</td>\n",
              "      <td>4.978864e-25</td>\n",
              "      <td>-7.365820e-27</td>\n",
              "      <td>2.180753e-25</td>\n",
              "      <td>-3.846749e-26</td>\n",
              "      <td>-8.456427e-26</td>\n",
              "      <td>-1.841713e-25</td>\n",
              "    </tr>\n",
              "    <tr>\n",
              "      <th>defending</th>\n",
              "      <td>-0.202614</td>\n",
              "      <td>0.239156</td>\n",
              "      <td>0.195633</td>\n",
              "      <td>0.310705</td>\n",
              "      <td>0.131510</td>\n",
              "      <td>-0.095805</td>\n",
              "      <td>-1.620227e-01</td>\n",
              "      <td>-3.043515e-01</td>\n",
              "      <td>-4.086291e-01</td>\n",
              "      <td>1.556989e-01</td>\n",
              "      <td>-1.685492e-01</td>\n",
              "      <td>1.000000e+00</td>\n",
              "      <td>5.514711e-01</td>\n",
              "      <td>5.611525e-25</td>\n",
              "      <td>-7.694017e-26</td>\n",
              "      <td>2.880640e-25</td>\n",
              "      <td>-1.463294e-25</td>\n",
              "      <td>-6.374711e-26</td>\n",
              "      <td>-2.117679e-25</td>\n",
              "    </tr>\n",
              "    <tr>\n",
              "      <th>physic</th>\n",
              "      <td>-0.333371</td>\n",
              "      <td>0.400410</td>\n",
              "      <td>0.520913</td>\n",
              "      <td>0.480003</td>\n",
              "      <td>0.167724</td>\n",
              "      <td>0.000862</td>\n",
              "      <td>-5.164787e-02</td>\n",
              "      <td>-1.961588e-01</td>\n",
              "      <td>4.789621e-03</td>\n",
              "      <td>1.323946e-01</td>\n",
              "      <td>-4.419646e-02</td>\n",
              "      <td>5.514711e-01</td>\n",
              "      <td>1.000000e+00</td>\n",
              "      <td>-1.022842e-25</td>\n",
              "      <td>1.129560e-26</td>\n",
              "      <td>1.371263e-25</td>\n",
              "      <td>-2.333095e-25</td>\n",
              "      <td>-6.308965e-27</td>\n",
              "      <td>-2.159948e-25</td>\n",
              "    </tr>\n",
              "    <tr>\n",
              "      <th>gk_diving</th>\n",
              "      <td>-0.170064</td>\n",
              "      <td>0.165423</td>\n",
              "      <td>0.074766</td>\n",
              "      <td>0.346414</td>\n",
              "      <td>0.137005</td>\n",
              "      <td>0.056206</td>\n",
              "      <td>9.644054e-14</td>\n",
              "      <td>1.048610e-24</td>\n",
              "      <td>3.269617e-25</td>\n",
              "      <td>9.715574e-25</td>\n",
              "      <td>4.978864e-25</td>\n",
              "      <td>5.611525e-25</td>\n",
              "      <td>-1.022842e-25</td>\n",
              "      <td>1.000000e+00</td>\n",
              "      <td>8.409498e-01</td>\n",
              "      <td>7.314314e-01</td>\n",
              "      <td>9.169923e-01</td>\n",
              "      <td>4.595952e-01</td>\n",
              "      <td>8.542910e-01</td>\n",
              "    </tr>\n",
              "    <tr>\n",
              "      <th>gk_handling</th>\n",
              "      <td>-0.178170</td>\n",
              "      <td>0.179613</td>\n",
              "      <td>0.079056</td>\n",
              "      <td>0.337693</td>\n",
              "      <td>0.142532</td>\n",
              "      <td>0.055049</td>\n",
              "      <td>-8.542557e-14</td>\n",
              "      <td>-1.902367e-25</td>\n",
              "      <td>-6.684160e-26</td>\n",
              "      <td>-1.009799e-26</td>\n",
              "      <td>-7.365820e-27</td>\n",
              "      <td>-7.694017e-26</td>\n",
              "      <td>1.129560e-26</td>\n",
              "      <td>8.409498e-01</td>\n",
              "      <td>1.000000e+00</td>\n",
              "      <td>7.362182e-01</td>\n",
              "      <td>8.296462e-01</td>\n",
              "      <td>3.974546e-01</td>\n",
              "      <td>8.761974e-01</td>\n",
              "    </tr>\n",
              "    <tr>\n",
              "      <th>gk_kicking</th>\n",
              "      <td>-0.150614</td>\n",
              "      <td>0.155859</td>\n",
              "      <td>0.062494</td>\n",
              "      <td>0.288730</td>\n",
              "      <td>0.114335</td>\n",
              "      <td>0.075682</td>\n",
              "      <td>-5.051290e-14</td>\n",
              "      <td>1.181293e-24</td>\n",
              "      <td>6.761366e-25</td>\n",
              "      <td>1.023846e-25</td>\n",
              "      <td>2.180753e-25</td>\n",
              "      <td>2.880640e-25</td>\n",
              "      <td>1.371263e-25</td>\n",
              "      <td>7.314314e-01</td>\n",
              "      <td>7.362182e-01</td>\n",
              "      <td>1.000000e+00</td>\n",
              "      <td>7.250406e-01</td>\n",
              "      <td>3.810675e-01</td>\n",
              "      <td>7.369108e-01</td>\n",
              "    </tr>\n",
              "    <tr>\n",
              "      <th>gk_reflexes</th>\n",
              "      <td>-0.162451</td>\n",
              "      <td>0.161253</td>\n",
              "      <td>0.071810</td>\n",
              "      <td>0.346016</td>\n",
              "      <td>0.134908</td>\n",
              "      <td>0.053057</td>\n",
              "      <td>-3.171823e-14</td>\n",
              "      <td>-3.053086e-25</td>\n",
              "      <td>-5.348628e-26</td>\n",
              "      <td>-4.093470e-26</td>\n",
              "      <td>-3.846749e-26</td>\n",
              "      <td>-1.463294e-25</td>\n",
              "      <td>-2.333095e-25</td>\n",
              "      <td>9.169923e-01</td>\n",
              "      <td>8.296462e-01</td>\n",
              "      <td>7.250406e-01</td>\n",
              "      <td>1.000000e+00</td>\n",
              "      <td>4.607780e-01</td>\n",
              "      <td>8.558074e-01</td>\n",
              "    </tr>\n",
              "    <tr>\n",
              "      <th>gk_speed</th>\n",
              "      <td>-0.148713</td>\n",
              "      <td>0.130181</td>\n",
              "      <td>0.022994</td>\n",
              "      <td>0.175469</td>\n",
              "      <td>0.072943</td>\n",
              "      <td>0.035823</td>\n",
              "      <td>1.036995e-14</td>\n",
              "      <td>-1.796087e-25</td>\n",
              "      <td>2.165368e-26</td>\n",
              "      <td>4.404780e-26</td>\n",
              "      <td>-8.456427e-26</td>\n",
              "      <td>-6.374711e-26</td>\n",
              "      <td>-6.308965e-27</td>\n",
              "      <td>4.595952e-01</td>\n",
              "      <td>3.974546e-01</td>\n",
              "      <td>3.810675e-01</td>\n",
              "      <td>4.607780e-01</td>\n",
              "      <td>1.000000e+00</td>\n",
              "      <td>4.430269e-01</td>\n",
              "    </tr>\n",
              "    <tr>\n",
              "      <th>gk_positioning</th>\n",
              "      <td>-0.205723</td>\n",
              "      <td>0.211868</td>\n",
              "      <td>0.084252</td>\n",
              "      <td>0.344897</td>\n",
              "      <td>0.138763</td>\n",
              "      <td>0.051367</td>\n",
              "      <td>1.196750e-14</td>\n",
              "      <td>2.007761e-24</td>\n",
              "      <td>1.688764e-25</td>\n",
              "      <td>4.908314e-25</td>\n",
              "      <td>-1.841713e-25</td>\n",
              "      <td>-2.117679e-25</td>\n",
              "      <td>-2.159948e-25</td>\n",
              "      <td>8.542910e-01</td>\n",
              "      <td>8.761974e-01</td>\n",
              "      <td>7.369108e-01</td>\n",
              "      <td>8.558074e-01</td>\n",
              "      <td>4.430269e-01</td>\n",
              "      <td>1.000000e+00</td>\n",
              "    </tr>\n",
              "  </tbody>\n",
              "</table>\n",
              "</div>"
            ],
            "text/plain": [
              "                          sofifa_id       age  ...      gk_speed  gk_positioning\n",
              "sofifa_id                  1.000000 -0.736680  ... -1.487126e-01   -2.057234e-01\n",
              "age                       -0.736680  1.000000  ...  1.301812e-01    2.118678e-01\n",
              "weight_kg                 -0.203620  0.237169  ...  2.299359e-02    8.425207e-02\n",
              "overall                   -0.445061  0.464305  ...  1.754686e-01    3.448969e-01\n",
              "international_reputation  -0.360765  0.259582  ...  7.294336e-02    1.387632e-01\n",
              "weak_foot                 -0.092250  0.073988  ...  3.582256e-02    5.136697e-02\n",
              "skill_moves               -0.079645  0.045277  ...  1.036995e-14    1.196750e-14\n",
              "pace                       0.145834 -0.185087  ... -1.796087e-25    2.007761e-24\n",
              "shooting                  -0.246711  0.219839  ...  2.165368e-26    1.688764e-25\n",
              "passing                   -0.330623  0.304022  ...  4.404780e-26    4.908314e-25\n",
              "dribbling                 -0.199895  0.148939  ... -8.456427e-26   -1.841713e-25\n",
              "defending                 -0.202614  0.239156  ... -6.374711e-26   -2.117679e-25\n",
              "physic                    -0.333371  0.400410  ... -6.308965e-27   -2.159948e-25\n",
              "gk_diving                 -0.170064  0.165423  ...  4.595952e-01    8.542910e-01\n",
              "gk_handling               -0.178170  0.179613  ...  3.974546e-01    8.761974e-01\n",
              "gk_kicking                -0.150614  0.155859  ...  3.810675e-01    7.369108e-01\n",
              "gk_reflexes               -0.162451  0.161253  ...  4.607780e-01    8.558074e-01\n",
              "gk_speed                  -0.148713  0.130181  ...  1.000000e+00    4.430269e-01\n",
              "gk_positioning            -0.205723  0.211868  ...  4.430269e-01    1.000000e+00\n",
              "\n",
              "[19 rows x 19 columns]"
            ]
          },
          "metadata": {
            "tags": []
          },
          "execution_count": 44
        }
      ]
    },
    {
      "cell_type": "code",
      "metadata": {
        "colab": {
          "base_uri": "https://localhost:8080/",
          "height": 380
        },
        "id": "MhS3ALWG0iXP",
        "outputId": "3d0bd9fe-7425-4b25-e64b-df73664cda28"
      },
      "source": [
        "sns.heatmap(df.corr())\n",
        "plt.show()"
      ],
      "execution_count": null,
      "outputs": [
        {
          "output_type": "display_data",
          "data": {
            "image/png": "[encoded data removed]",
            "text/plain": [
              "<Figure size 432x288 with 2 Axes>"
            ]
          },
          "metadata": {
            "tags": [],
            "needs_background": "light"
          }
        }
      ]
    },
    {
      "cell_type": "code",
      "metadata": {
        "id": "NJJ6cyiPuxag"
      },
      "source": [
        "feature_columns = ['pace', 'defending', 'passing', 'shooting', 'dribbling', 'gk_handling', 'gk_kicking', 'gk_reflexes', 'gk_speed','gk_diving' ,'gk_positioning']"
      ],
      "execution_count": null,
      "outputs": []
    },
    {
      "cell_type": "code",
      "metadata": {
        "colab": {
          "base_uri": "https://localhost:8080/"
        },
        "id": "OJjH7GV62jB4",
        "outputId": "7d20eacf-363e-4d85-ee02-0072fcad50b0"
      },
      "source": [
        "X = df[feature_columns].to_numpy()\n",
        "X"
      ],
      "execution_count": null,
      "outputs": [
        {
          "output_type": "execute_result",
          "data": {
            "text/plain": [
              "array([[87.        , 39.        , 92.        , ..., 37.79862475,\n",
              "        65.42239686, 63.37475442],\n",
              "       [90.        , 35.        , 82.        , ..., 37.79862475,\n",
              "        65.42239686, 63.37475442],\n",
              "       [91.        , 32.        , 87.        , ..., 37.79862475,\n",
              "        65.42239686, 63.37475442],\n",
              "       ...,\n",
              "       [54.        , 48.        , 44.        , ..., 37.79862475,\n",
              "        65.42239686, 63.37475442],\n",
              "       [59.        , 45.        , 47.        , ..., 37.79862475,\n",
              "        65.42239686, 63.37475442],\n",
              "       [60.        , 47.        , 51.        , ..., 37.79862475,\n",
              "        65.42239686, 63.37475442]])"
            ]
          },
          "metadata": {
            "tags": []
          },
          "execution_count": 47
        }
      ]
    },
    {
      "cell_type": "code",
      "metadata": {
        "colab": {
          "base_uri": "https://localhost:8080/"
        },
        "id": "vfSFGtvK2m2G",
        "outputId": "094d9fef-cb92-4bd0-affb-63ba41f7b946"
      },
      "source": [
        "y = df['overall'].to_numpy().reshape(-1,1)\n",
        "y.shape"
      ],
      "execution_count": null,
      "outputs": [
        {
          "output_type": "execute_result",
          "data": {
            "text/plain": [
              "(18278, 1)"
            ]
          },
          "metadata": {
            "tags": []
          },
          "execution_count": 48
        }
      ]
    },
    {
      "cell_type": "code",
      "metadata": {
        "colab": {
          "base_uri": "https://localhost:8080/"
        },
        "id": "4tuGoqQo3CdK",
        "outputId": "63f14fe7-92c1-4728-c88e-f7de538336d9"
      },
      "source": [
        "y"
      ],
      "execution_count": null,
      "outputs": [
        {
          "output_type": "execute_result",
          "data": {
            "text/plain": [
              "array([[94],\n",
              "       [93],\n",
              "       [92],\n",
              "       ...,\n",
              "       [48],\n",
              "       [48],\n",
              "       [48]])"
            ]
          },
          "metadata": {
            "tags": []
          },
          "execution_count": 49
        }
      ]
    },
    {
      "cell_type": "code",
      "metadata": {
        "id": "FGvjfMEX3OKK"
      },
      "source": [
        "from sklearn.model_selection import train_test_split\n",
        "X_train,X_test,y_train,y_test = train_test_split(X,y,test_size=0.3,train_size=0.7,random_state=42)\n"
      ],
      "execution_count": null,
      "outputs": []
    },
    {
      "cell_type": "code",
      "metadata": {
        "colab": {
          "base_uri": "https://localhost:8080/"
        },
        "id": "bHg_N3-v3xK9",
        "outputId": "c76bf8d1-e1a7-460b-8a0e-de823763658a"
      },
      "source": [
        "X_train"
      ],
      "execution_count": null,
      "outputs": [
        {
          "output_type": "execute_result",
          "data": {
            "text/plain": [
              "array([[61.        , 60.        , 63.        , ..., 37.79862475,\n",
              "        65.42239686, 63.37475442],\n",
              "       [64.        , 30.        , 57.        , ..., 37.79862475,\n",
              "        65.42239686, 63.37475442],\n",
              "       [68.        , 64.        , 74.        , ..., 37.79862475,\n",
              "        65.42239686, 63.37475442],\n",
              "       ...,\n",
              "       [67.7008989 , 51.55350326, 57.23377663, ..., 34.        ,\n",
              "        74.        , 74.        ],\n",
              "       [65.        , 32.        , 58.        , ..., 37.79862475,\n",
              "        65.42239686, 63.37475442],\n",
              "       [61.        , 38.        , 44.        , ..., 37.79862475,\n",
              "        65.42239686, 63.37475442]])"
            ]
          },
          "metadata": {
            "tags": []
          },
          "execution_count": 51
        }
      ]
    },
    {
      "cell_type": "code",
      "metadata": {
        "colab": {
          "base_uri": "https://localhost:8080/"
        },
        "id": "qrv4bsld3yoe",
        "outputId": "09d26e15-8545-48b1-db58-3d42e906eb23"
      },
      "source": [
        "y_train"
      ],
      "execution_count": null,
      "outputs": [
        {
          "output_type": "execute_result",
          "data": {
            "text/plain": [
              "array([[66],\n",
              "       [72],\n",
              "       [74],\n",
              "       ...,\n",
              "       [70],\n",
              "       [78],\n",
              "       [59]])"
            ]
          },
          "metadata": {
            "tags": []
          },
          "execution_count": 52
        }
      ]
    },
    {
      "cell_type": "code",
      "metadata": {
        "id": "EFMiubtg30pl"
      },
      "source": [
        "import xgboost as xgb"
      ],
      "execution_count": null,
      "outputs": []
    },
    {
      "cell_type": "code",
      "metadata": {
        "colab": {
          "base_uri": "https://localhost:8080/"
        },
        "id": "wynOy7ZJ35eK",
        "outputId": "e9e1b0eb-9d14-42fd-d942-652c4dc27eea"
      },
      "source": [
        "xgb_model = xgb.XGBRegressor(objective=\"reg:squarederror\")\n",
        "xgb_model.fit(X_train,y_train)"
      ],
      "execution_count": null,
      "outputs": [
        {
          "output_type": "execute_result",
          "data": {
            "text/plain": [
              "XGBRegressor(base_score=0.5, booster='gbtree', colsample_bylevel=1,\n",
              "             colsample_bynode=1, colsample_bytree=1, gamma=0,\n",
              "             importance_type='gain', learning_rate=0.1, max_delta_step=0,\n",
              "             max_depth=3, min_child_weight=1, missing=None, n_estimators=100,\n",
              "             n_jobs=1, nthread=None, objective='reg:squarederror',\n",
              "             random_state=0, reg_alpha=0, reg_lambda=1, scale_pos_weight=1,\n",
              "             seed=None, silent=None, subsample=1, verbosity=1)"
            ]
          },
          "metadata": {
            "tags": []
          },
          "execution_count": 54
        }
      ]
    },
    {
      "cell_type": "code",
      "metadata": {
        "colab": {
          "base_uri": "https://localhost:8080/"
        },
        "id": "YHgVO6bx4R-x",
        "outputId": "598ea8a3-240b-438c-d421-d97e01636f26"
      },
      "source": [
        "predict = xgb_model.predict(X_test)\n",
        "predict"
      ],
      "execution_count": null,
      "outputs": [
        {
          "output_type": "execute_result",
          "data": {
            "text/plain": [
              "array([62.081764, 73.201744, 69.09789 , ..., 77.271545, 70.427956,\n",
              "       71.49799 ], dtype=float32)"
            ]
          },
          "metadata": {
            "tags": []
          },
          "execution_count": 55
        }
      ]
    },
    {
      "cell_type": "code",
      "metadata": {
        "colab": {
          "base_uri": "https://localhost:8080/"
        },
        "id": "m_Sm6jb140p1",
        "outputId": "61599f98-89bf-465b-e780-aca495d2edcf"
      },
      "source": [
        "xgb_model.score(X_train,y_train) * 100"
      ],
      "execution_count": null,
      "outputs": [
        {
          "output_type": "execute_result",
          "data": {
            "text/plain": [
              "95.38542191420824"
            ]
          },
          "metadata": {
            "tags": []
          },
          "execution_count": 56
        }
      ]
    },
    {
      "cell_type": "code",
      "metadata": {
        "colab": {
          "base_uri": "https://localhost:8080/"
        },
        "id": "8s00HvXX49kp",
        "outputId": "a87d159c-f568-4c02-de36-7db741f587d8"
      },
      "source": [
        "xgb_model.score(X_test,y_test) *100"
      ],
      "execution_count": null,
      "outputs": [
        {
          "output_type": "execute_result",
          "data": {
            "text/plain": [
              "95.35352597649597"
            ]
          },
          "metadata": {
            "tags": []
          },
          "execution_count": 57
        }
      ]
    },
    {
      "cell_type": "code",
      "metadata": {
        "colab": {
          "base_uri": "https://localhost:8080/",
          "height": 265
        },
        "id": "p-DCNuDZ5Hmx",
        "outputId": "f0d6ed70-ade4-4f89-ee66-91d8fe02ccd1"
      },
      "source": [
        "plt.plot(y_test[3450:3500], label='original')\n",
        "plt.plot(predict[3450:3500], label='predicted')\n",
        "plt.legend()\n",
        "plt.show()"
      ],
      "execution_count": null,
      "outputs": [
        {
          "output_type": "display_data",
          "data": {
            "image/png": "[encoded data removed]",
            "text/plain": [
              "<Figure size 432x288 with 1 Axes>"
            ]
          },
          "metadata": {
            "tags": [],
            "needs_background": "light"
          }
        }
      ]
    }
  ]
}