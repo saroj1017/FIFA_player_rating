{
  "nbformat": 4,
  "nbformat_minor": 0,
  "metadata": {
    "colab": {
      "name": "FIFA_player_rating(xgboost vs linear_regression.ipynb",
      "provenance": [],
      "collapsed_sections": []
    },
    "kernelspec": {
      "name": "python3",
      "display_name": "Python 3"
    },
    "language_info": {
      "name": "python"
    }
  },
  "cells": [
    {
      "cell_type": "code",
      "metadata": {
        "id": "892lPavm09gk"
      },
      "source": [
        "import numpy as np\n",
        "import pandas as pd\n",
        "import matplotlib.pyplot as plt\n",
        "import seaborn as sns"
      ],
      "execution_count": 1,
      "outputs": []
    },
    {
      "cell_type": "code",
      "metadata": {
        "colab": {
          "base_uri": "https://localhost:8080/",
          "height": 487
        },
        "id": "qLHAzE6A1FDd",
        "outputId": "1ac91630-d974-48aa-ec06-3137ecd6a24b"
      },
      "source": [
        "df = pd.read_csv(\"/content/drive/MyDrive/football/players_20.csv\")\n",
        "df.head()"
      ],
      "execution_count": 2,
      "outputs": [
        {
          "output_type": "execute_result",
          "data": {
            "text/html": [
              "<div>\n",
              "<style scoped>\n",
              "    .dataframe tbody tr th:only-of-type {\n",
              "        vertical-align: middle;\n",
              "    }\n",
              "\n",
              "    .dataframe tbody tr th {\n",
              "        vertical-align: top;\n",
              "    }\n",
              "\n",
              "    .dataframe thead th {\n",
              "        text-align: right;\n",
              "    }\n",
              "</style>\n",
              "<table border=\"1\" class=\"dataframe\">\n",
              "  <thead>\n",
              "    <tr style=\"text-align: right;\">\n",
              "      <th></th>\n",
              "      <th>sofifa_id</th>\n",
              "      <th>player_url</th>\n",
              "      <th>short_name</th>\n",
              "      <th>long_name</th>\n",
              "      <th>age</th>\n",
              "      <th>dob</th>\n",
              "      <th>height_cm</th>\n",
              "      <th>weight_kg</th>\n",
              "      <th>nationality</th>\n",
              "      <th>club</th>\n",
              "      <th>overall</th>\n",
              "      <th>potential</th>\n",
              "      <th>value_eur</th>\n",
              "      <th>wage_eur</th>\n",
              "      <th>player_positions</th>\n",
              "      <th>preferred_foot</th>\n",
              "      <th>international_reputation</th>\n",
              "      <th>weak_foot</th>\n",
              "      <th>skill_moves</th>\n",
              "      <th>work_rate</th>\n",
              "      <th>body_type</th>\n",
              "      <th>real_face</th>\n",
              "      <th>release_clause_eur</th>\n",
              "      <th>player_tags</th>\n",
              "      <th>team_position</th>\n",
              "      <th>team_jersey_number</th>\n",
              "      <th>loaned_from</th>\n",
              "      <th>joined</th>\n",
              "      <th>contract_valid_until</th>\n",
              "      <th>nation_position</th>\n",
              "      <th>nation_jersey_number</th>\n",
              "      <th>pace</th>\n",
              "      <th>shooting</th>\n",
              "      <th>passing</th>\n",
              "      <th>dribbling</th>\n",
              "      <th>defending</th>\n",
              "      <th>physic</th>\n",
              "      <th>gk_diving</th>\n",
              "      <th>gk_handling</th>\n",
              "      <th>gk_kicking</th>\n",
              "      <th>...</th>\n",
              "      <th>mentality_aggression</th>\n",
              "      <th>mentality_interceptions</th>\n",
              "      <th>mentality_positioning</th>\n",
              "      <th>mentality_vision</th>\n",
              "      <th>mentality_penalties</th>\n",
              "      <th>mentality_composure</th>\n",
              "      <th>defending_marking</th>\n",
              "      <th>defending_standing_tackle</th>\n",
              "      <th>defending_sliding_tackle</th>\n",
              "      <th>goalkeeping_diving</th>\n",
              "      <th>goalkeeping_handling</th>\n",
              "      <th>goalkeeping_kicking</th>\n",
              "      <th>goalkeeping_positioning</th>\n",
              "      <th>goalkeeping_reflexes</th>\n",
              "      <th>ls</th>\n",
              "      <th>st</th>\n",
              "      <th>rs</th>\n",
              "      <th>lw</th>\n",
              "      <th>lf</th>\n",
              "      <th>cf</th>\n",
              "      <th>rf</th>\n",
              "      <th>rw</th>\n",
              "      <th>lam</th>\n",
              "      <th>cam</th>\n",
              "      <th>ram</th>\n",
              "      <th>lm</th>\n",
              "      <th>lcm</th>\n",
              "      <th>cm</th>\n",
              "      <th>rcm</th>\n",
              "      <th>rm</th>\n",
              "      <th>lwb</th>\n",
              "      <th>ldm</th>\n",
              "      <th>cdm</th>\n",
              "      <th>rdm</th>\n",
              "      <th>rwb</th>\n",
              "      <th>lb</th>\n",
              "      <th>lcb</th>\n",
              "      <th>cb</th>\n",
              "      <th>rcb</th>\n",
              "      <th>rb</th>\n",
              "    </tr>\n",
              "  </thead>\n",
              "  <tbody>\n",
              "    <tr>\n",
              "      <th>0</th>\n",
              "      <td>158023</td>\n",
              "      <td>https://sofifa.com/player/158023/lionel-messi/...</td>\n",
              "      <td>L. Messi</td>\n",
              "      <td>Lionel Andrés Messi Cuccittini</td>\n",
              "      <td>32</td>\n",
              "      <td>1987-06-24</td>\n",
              "      <td>170</td>\n",
              "      <td>72</td>\n",
              "      <td>Argentina</td>\n",
              "      <td>FC Barcelona</td>\n",
              "      <td>94</td>\n",
              "      <td>94</td>\n",
              "      <td>95500000</td>\n",
              "      <td>565000</td>\n",
              "      <td>RW, CF, ST</td>\n",
              "      <td>Left</td>\n",
              "      <td>5</td>\n",
              "      <td>4</td>\n",
              "      <td>4</td>\n",
              "      <td>Medium/Low</td>\n",
              "      <td>Messi</td>\n",
              "      <td>Yes</td>\n",
              "      <td>195800000.0</td>\n",
              "      <td>#Dribbler, #Distance Shooter, #Crosser, #FK Sp...</td>\n",
              "      <td>RW</td>\n",
              "      <td>10.0</td>\n",
              "      <td>NaN</td>\n",
              "      <td>2004-07-01</td>\n",
              "      <td>2021.0</td>\n",
              "      <td>NaN</td>\n",
              "      <td>NaN</td>\n",
              "      <td>87.0</td>\n",
              "      <td>92.0</td>\n",
              "      <td>92.0</td>\n",
              "      <td>96.0</td>\n",
              "      <td>39.0</td>\n",
              "      <td>66.0</td>\n",
              "      <td>NaN</td>\n",
              "      <td>NaN</td>\n",
              "      <td>NaN</td>\n",
              "      <td>...</td>\n",
              "      <td>48</td>\n",
              "      <td>40</td>\n",
              "      <td>94</td>\n",
              "      <td>94</td>\n",
              "      <td>75</td>\n",
              "      <td>96</td>\n",
              "      <td>33</td>\n",
              "      <td>37</td>\n",
              "      <td>26</td>\n",
              "      <td>6</td>\n",
              "      <td>11</td>\n",
              "      <td>15</td>\n",
              "      <td>14</td>\n",
              "      <td>8</td>\n",
              "      <td>89+2</td>\n",
              "      <td>89+2</td>\n",
              "      <td>89+2</td>\n",
              "      <td>93+2</td>\n",
              "      <td>93+2</td>\n",
              "      <td>93+2</td>\n",
              "      <td>93+2</td>\n",
              "      <td>93+2</td>\n",
              "      <td>93+2</td>\n",
              "      <td>93+2</td>\n",
              "      <td>93+2</td>\n",
              "      <td>92+2</td>\n",
              "      <td>87+2</td>\n",
              "      <td>87+2</td>\n",
              "      <td>87+2</td>\n",
              "      <td>92+2</td>\n",
              "      <td>68+2</td>\n",
              "      <td>66+2</td>\n",
              "      <td>66+2</td>\n",
              "      <td>66+2</td>\n",
              "      <td>68+2</td>\n",
              "      <td>63+2</td>\n",
              "      <td>52+2</td>\n",
              "      <td>52+2</td>\n",
              "      <td>52+2</td>\n",
              "      <td>63+2</td>\n",
              "    </tr>\n",
              "    <tr>\n",
              "      <th>1</th>\n",
              "      <td>20801</td>\n",
              "      <td>https://sofifa.com/player/20801/c-ronaldo-dos-...</td>\n",
              "      <td>Cristiano Ronaldo</td>\n",
              "      <td>Cristiano Ronaldo dos Santos Aveiro</td>\n",
              "      <td>34</td>\n",
              "      <td>1985-02-05</td>\n",
              "      <td>187</td>\n",
              "      <td>83</td>\n",
              "      <td>Portugal</td>\n",
              "      <td>Juventus</td>\n",
              "      <td>93</td>\n",
              "      <td>93</td>\n",
              "      <td>58500000</td>\n",
              "      <td>405000</td>\n",
              "      <td>ST, LW</td>\n",
              "      <td>Right</td>\n",
              "      <td>5</td>\n",
              "      <td>4</td>\n",
              "      <td>5</td>\n",
              "      <td>High/Low</td>\n",
              "      <td>C. Ronaldo</td>\n",
              "      <td>Yes</td>\n",
              "      <td>96500000.0</td>\n",
              "      <td>#Speedster, #Dribbler, #Distance Shooter, #Acr...</td>\n",
              "      <td>LW</td>\n",
              "      <td>7.0</td>\n",
              "      <td>NaN</td>\n",
              "      <td>2018-07-10</td>\n",
              "      <td>2022.0</td>\n",
              "      <td>LS</td>\n",
              "      <td>7.0</td>\n",
              "      <td>90.0</td>\n",
              "      <td>93.0</td>\n",
              "      <td>82.0</td>\n",
              "      <td>89.0</td>\n",
              "      <td>35.0</td>\n",
              "      <td>78.0</td>\n",
              "      <td>NaN</td>\n",
              "      <td>NaN</td>\n",
              "      <td>NaN</td>\n",
              "      <td>...</td>\n",
              "      <td>63</td>\n",
              "      <td>29</td>\n",
              "      <td>95</td>\n",
              "      <td>82</td>\n",
              "      <td>85</td>\n",
              "      <td>95</td>\n",
              "      <td>28</td>\n",
              "      <td>32</td>\n",
              "      <td>24</td>\n",
              "      <td>7</td>\n",
              "      <td>11</td>\n",
              "      <td>15</td>\n",
              "      <td>14</td>\n",
              "      <td>11</td>\n",
              "      <td>91+3</td>\n",
              "      <td>91+3</td>\n",
              "      <td>91+3</td>\n",
              "      <td>89+3</td>\n",
              "      <td>90+3</td>\n",
              "      <td>90+3</td>\n",
              "      <td>90+3</td>\n",
              "      <td>89+3</td>\n",
              "      <td>88+3</td>\n",
              "      <td>88+3</td>\n",
              "      <td>88+3</td>\n",
              "      <td>88+3</td>\n",
              "      <td>81+3</td>\n",
              "      <td>81+3</td>\n",
              "      <td>81+3</td>\n",
              "      <td>88+3</td>\n",
              "      <td>65+3</td>\n",
              "      <td>61+3</td>\n",
              "      <td>61+3</td>\n",
              "      <td>61+3</td>\n",
              "      <td>65+3</td>\n",
              "      <td>61+3</td>\n",
              "      <td>53+3</td>\n",
              "      <td>53+3</td>\n",
              "      <td>53+3</td>\n",
              "      <td>61+3</td>\n",
              "    </tr>\n",
              "    <tr>\n",
              "      <th>2</th>\n",
              "      <td>190871</td>\n",
              "      <td>https://sofifa.com/player/190871/neymar-da-sil...</td>\n",
              "      <td>Neymar Jr</td>\n",
              "      <td>Neymar da Silva Santos Junior</td>\n",
              "      <td>27</td>\n",
              "      <td>1992-02-05</td>\n",
              "      <td>175</td>\n",
              "      <td>68</td>\n",
              "      <td>Brazil</td>\n",
              "      <td>Paris Saint-Germain</td>\n",
              "      <td>92</td>\n",
              "      <td>92</td>\n",
              "      <td>105500000</td>\n",
              "      <td>290000</td>\n",
              "      <td>LW, CAM</td>\n",
              "      <td>Right</td>\n",
              "      <td>5</td>\n",
              "      <td>5</td>\n",
              "      <td>5</td>\n",
              "      <td>High/Medium</td>\n",
              "      <td>Neymar</td>\n",
              "      <td>Yes</td>\n",
              "      <td>195200000.0</td>\n",
              "      <td>#Speedster, #Dribbler, #Playmaker  , #Crosser,...</td>\n",
              "      <td>CAM</td>\n",
              "      <td>10.0</td>\n",
              "      <td>NaN</td>\n",
              "      <td>2017-08-03</td>\n",
              "      <td>2022.0</td>\n",
              "      <td>LW</td>\n",
              "      <td>10.0</td>\n",
              "      <td>91.0</td>\n",
              "      <td>85.0</td>\n",
              "      <td>87.0</td>\n",
              "      <td>95.0</td>\n",
              "      <td>32.0</td>\n",
              "      <td>58.0</td>\n",
              "      <td>NaN</td>\n",
              "      <td>NaN</td>\n",
              "      <td>NaN</td>\n",
              "      <td>...</td>\n",
              "      <td>51</td>\n",
              "      <td>36</td>\n",
              "      <td>87</td>\n",
              "      <td>90</td>\n",
              "      <td>90</td>\n",
              "      <td>94</td>\n",
              "      <td>27</td>\n",
              "      <td>26</td>\n",
              "      <td>29</td>\n",
              "      <td>9</td>\n",
              "      <td>9</td>\n",
              "      <td>15</td>\n",
              "      <td>15</td>\n",
              "      <td>11</td>\n",
              "      <td>84+3</td>\n",
              "      <td>84+3</td>\n",
              "      <td>84+3</td>\n",
              "      <td>90+3</td>\n",
              "      <td>89+3</td>\n",
              "      <td>89+3</td>\n",
              "      <td>89+3</td>\n",
              "      <td>90+3</td>\n",
              "      <td>90+3</td>\n",
              "      <td>90+3</td>\n",
              "      <td>90+3</td>\n",
              "      <td>89+3</td>\n",
              "      <td>82+3</td>\n",
              "      <td>82+3</td>\n",
              "      <td>82+3</td>\n",
              "      <td>89+3</td>\n",
              "      <td>66+3</td>\n",
              "      <td>61+3</td>\n",
              "      <td>61+3</td>\n",
              "      <td>61+3</td>\n",
              "      <td>66+3</td>\n",
              "      <td>61+3</td>\n",
              "      <td>46+3</td>\n",
              "      <td>46+3</td>\n",
              "      <td>46+3</td>\n",
              "      <td>61+3</td>\n",
              "    </tr>\n",
              "    <tr>\n",
              "      <th>3</th>\n",
              "      <td>200389</td>\n",
              "      <td>https://sofifa.com/player/200389/jan-oblak/20/...</td>\n",
              "      <td>J. Oblak</td>\n",
              "      <td>Jan Oblak</td>\n",
              "      <td>26</td>\n",
              "      <td>1993-01-07</td>\n",
              "      <td>188</td>\n",
              "      <td>87</td>\n",
              "      <td>Slovenia</td>\n",
              "      <td>Atlético Madrid</td>\n",
              "      <td>91</td>\n",
              "      <td>93</td>\n",
              "      <td>77500000</td>\n",
              "      <td>125000</td>\n",
              "      <td>GK</td>\n",
              "      <td>Right</td>\n",
              "      <td>3</td>\n",
              "      <td>3</td>\n",
              "      <td>1</td>\n",
              "      <td>Medium/Medium</td>\n",
              "      <td>Normal</td>\n",
              "      <td>Yes</td>\n",
              "      <td>164700000.0</td>\n",
              "      <td>NaN</td>\n",
              "      <td>GK</td>\n",
              "      <td>13.0</td>\n",
              "      <td>NaN</td>\n",
              "      <td>2014-07-16</td>\n",
              "      <td>2023.0</td>\n",
              "      <td>GK</td>\n",
              "      <td>1.0</td>\n",
              "      <td>NaN</td>\n",
              "      <td>NaN</td>\n",
              "      <td>NaN</td>\n",
              "      <td>NaN</td>\n",
              "      <td>NaN</td>\n",
              "      <td>NaN</td>\n",
              "      <td>87.0</td>\n",
              "      <td>92.0</td>\n",
              "      <td>78.0</td>\n",
              "      <td>...</td>\n",
              "      <td>34</td>\n",
              "      <td>19</td>\n",
              "      <td>11</td>\n",
              "      <td>65</td>\n",
              "      <td>11</td>\n",
              "      <td>68</td>\n",
              "      <td>27</td>\n",
              "      <td>12</td>\n",
              "      <td>18</td>\n",
              "      <td>87</td>\n",
              "      <td>92</td>\n",
              "      <td>78</td>\n",
              "      <td>90</td>\n",
              "      <td>89</td>\n",
              "      <td>NaN</td>\n",
              "      <td>NaN</td>\n",
              "      <td>NaN</td>\n",
              "      <td>NaN</td>\n",
              "      <td>NaN</td>\n",
              "      <td>NaN</td>\n",
              "      <td>NaN</td>\n",
              "      <td>NaN</td>\n",
              "      <td>NaN</td>\n",
              "      <td>NaN</td>\n",
              "      <td>NaN</td>\n",
              "      <td>NaN</td>\n",
              "      <td>NaN</td>\n",
              "      <td>NaN</td>\n",
              "      <td>NaN</td>\n",
              "      <td>NaN</td>\n",
              "      <td>NaN</td>\n",
              "      <td>NaN</td>\n",
              "      <td>NaN</td>\n",
              "      <td>NaN</td>\n",
              "      <td>NaN</td>\n",
              "      <td>NaN</td>\n",
              "      <td>NaN</td>\n",
              "      <td>NaN</td>\n",
              "      <td>NaN</td>\n",
              "      <td>NaN</td>\n",
              "    </tr>\n",
              "    <tr>\n",
              "      <th>4</th>\n",
              "      <td>183277</td>\n",
              "      <td>https://sofifa.com/player/183277/eden-hazard/2...</td>\n",
              "      <td>E. Hazard</td>\n",
              "      <td>Eden Hazard</td>\n",
              "      <td>28</td>\n",
              "      <td>1991-01-07</td>\n",
              "      <td>175</td>\n",
              "      <td>74</td>\n",
              "      <td>Belgium</td>\n",
              "      <td>Real Madrid</td>\n",
              "      <td>91</td>\n",
              "      <td>91</td>\n",
              "      <td>90000000</td>\n",
              "      <td>470000</td>\n",
              "      <td>LW, CF</td>\n",
              "      <td>Right</td>\n",
              "      <td>4</td>\n",
              "      <td>4</td>\n",
              "      <td>4</td>\n",
              "      <td>High/Medium</td>\n",
              "      <td>Normal</td>\n",
              "      <td>Yes</td>\n",
              "      <td>184500000.0</td>\n",
              "      <td>#Speedster, #Dribbler, #Acrobat</td>\n",
              "      <td>LW</td>\n",
              "      <td>7.0</td>\n",
              "      <td>NaN</td>\n",
              "      <td>2019-07-01</td>\n",
              "      <td>2024.0</td>\n",
              "      <td>LF</td>\n",
              "      <td>10.0</td>\n",
              "      <td>91.0</td>\n",
              "      <td>83.0</td>\n",
              "      <td>86.0</td>\n",
              "      <td>94.0</td>\n",
              "      <td>35.0</td>\n",
              "      <td>66.0</td>\n",
              "      <td>NaN</td>\n",
              "      <td>NaN</td>\n",
              "      <td>NaN</td>\n",
              "      <td>...</td>\n",
              "      <td>54</td>\n",
              "      <td>41</td>\n",
              "      <td>87</td>\n",
              "      <td>89</td>\n",
              "      <td>88</td>\n",
              "      <td>91</td>\n",
              "      <td>34</td>\n",
              "      <td>27</td>\n",
              "      <td>22</td>\n",
              "      <td>11</td>\n",
              "      <td>12</td>\n",
              "      <td>6</td>\n",
              "      <td>8</td>\n",
              "      <td>8</td>\n",
              "      <td>83+3</td>\n",
              "      <td>83+3</td>\n",
              "      <td>83+3</td>\n",
              "      <td>89+3</td>\n",
              "      <td>88+3</td>\n",
              "      <td>88+3</td>\n",
              "      <td>88+3</td>\n",
              "      <td>89+3</td>\n",
              "      <td>89+3</td>\n",
              "      <td>89+3</td>\n",
              "      <td>89+3</td>\n",
              "      <td>89+3</td>\n",
              "      <td>83+3</td>\n",
              "      <td>83+3</td>\n",
              "      <td>83+3</td>\n",
              "      <td>89+3</td>\n",
              "      <td>66+3</td>\n",
              "      <td>63+3</td>\n",
              "      <td>63+3</td>\n",
              "      <td>63+3</td>\n",
              "      <td>66+3</td>\n",
              "      <td>61+3</td>\n",
              "      <td>49+3</td>\n",
              "      <td>49+3</td>\n",
              "      <td>49+3</td>\n",
              "      <td>61+3</td>\n",
              "    </tr>\n",
              "  </tbody>\n",
              "</table>\n",
              "<p>5 rows × 104 columns</p>\n",
              "</div>"
            ],
            "text/plain": [
              "   sofifa_id                                         player_url  ...   rcb    rb\n",
              "0     158023  https://sofifa.com/player/158023/lionel-messi/...  ...  52+2  63+2\n",
              "1      20801  https://sofifa.com/player/20801/c-ronaldo-dos-...  ...  53+3  61+3\n",
              "2     190871  https://sofifa.com/player/190871/neymar-da-sil...  ...  46+3  61+3\n",
              "3     200389  https://sofifa.com/player/200389/jan-oblak/20/...  ...   NaN   NaN\n",
              "4     183277  https://sofifa.com/player/183277/eden-hazard/2...  ...  49+3  61+3\n",
              "\n",
              "[5 rows x 104 columns]"
            ]
          },
          "metadata": {
            "tags": []
          },
          "execution_count": 2
        }
      ]
    },
    {
      "cell_type": "code",
      "metadata": {
        "id": "v37NooLK_LDc"
      },
      "source": [
        "df['gk_diving']=df.gk_diving.fillna(df.gk_diving.mean())\n",
        "df['gk_handling']=df.gk_handling.fillna(df.gk_handling.mean())\n",
        "df['gk_kicking']=df.gk_kicking.fillna(df.gk_kicking.mean())\n",
        "df['gk_reflexes']=df.gk_reflexes.fillna(df.gk_reflexes.mean())\n",
        "df['gk_speed']=df.gk_speed.fillna(df.gk_speed.mean())\n",
        "df['gk_positioning']=df.gk_positioning.fillna(df.gk_positioning.mean())\n",
        "df['pace']=df.pace.fillna(df.pace.mean())\n",
        "df['shooting']=df.shooting.fillna(df.shooting.mean())\n",
        "df['passing']=df.passing.fillna(df.passing.mean())\n",
        "df['defending']=df.defending.fillna(df.defending.mean())\n",
        "df['physic']=df.physic.fillna(df.physic.mean())\n",
        "df['dribbling']=df.dribbling.fillna(df.dribbling.mean())\n",
        "\n",
        "df['nation_position']=df.nation_position.fillna(df.nation_position.value_counts().index[0])\n",
        "df['team_position']=df.team_position.fillna(df.team_position.value_counts().index[0])"
      ],
      "execution_count": 3,
      "outputs": []
    },
    {
      "cell_type": "code",
      "metadata": {
        "colab": {
          "base_uri": "https://localhost:8080/"
        },
        "id": "TDsAbrJc1HXx",
        "outputId": "60484e14-3d62-43d0-bb14-f9a01d222cbd"
      },
      "source": [
        "columns = ['sofifa_id','short_name','pace', 'defending', 'passing', 'shooting', 'dribbling', 'gk_handling', 'gk_kicking', 'gk_reflexes', 'gk_speed','gk_diving' ,'gk_positioning', 'overall']\n",
        "df = df[columns]\n",
        "df.head()\n",
        "df.isnull().values.any()"
      ],
      "execution_count": 4,
      "outputs": [
        {
          "output_type": "execute_result",
          "data": {
            "text/plain": [
              "False"
            ]
          },
          "metadata": {
            "tags": []
          },
          "execution_count": 4
        }
      ]
    },
    {
      "cell_type": "code",
      "metadata": {
        "id": "cRYwG3sv1JCC"
      },
      "source": [
        "df = df.to_numpy()"
      ],
      "execution_count": 5,
      "outputs": []
    },
    {
      "cell_type": "code",
      "metadata": {
        "colab": {
          "base_uri": "https://localhost:8080/"
        },
        "id": "hXNLg5sK1Wpy",
        "outputId": "7995b015-f26e-4202-98e1-e868c0bb891d"
      },
      "source": [
        "df.shape"
      ],
      "execution_count": 6,
      "outputs": [
        {
          "output_type": "execute_result",
          "data": {
            "text/plain": [
              "(18278, 14)"
            ]
          },
          "metadata": {
            "tags": []
          },
          "execution_count": 6
        }
      ]
    },
    {
      "cell_type": "code",
      "metadata": {
        "colab": {
          "base_uri": "https://localhost:8080/"
        },
        "id": "-LtvzsWx1dkp",
        "outputId": "ff72e3f6-a2e9-4e8b-f767-38e1e799bc78"
      },
      "source": [
        "import random\n",
        "np.random.shuffle(df)\n",
        "df\n"
      ],
      "execution_count": 7,
      "outputs": [
        {
          "output_type": "execute_result",
          "data": {
            "text/plain": [
              "array([[197061, 'J. Matip', 61.0, ..., 65.42239685658153,\n",
              "        63.37475442043222, 82],\n",
              "       [238559, 'S. Mai', 40.0, ..., 65.42239685658153,\n",
              "        63.37475442043222, 65],\n",
              "       [212680, 'J. Jones', 91.0, ..., 65.42239685658153,\n",
              "        63.37475442043222, 72],\n",
              "       ...,\n",
              "       [234980, 'Y. Shakhov', 70.0, ..., 65.42239685658153,\n",
              "        63.37475442043222, 71],\n",
              "       [244251, 'A. Turgeman', 72.0, ..., 65.42239685658153,\n",
              "        63.37475442043222, 67],\n",
              "       [244727, 'L. Tawamba', 75.0, ..., 65.42239685658153,\n",
              "        63.37475442043222, 75]], dtype=object)"
            ]
          },
          "metadata": {
            "tags": []
          },
          "execution_count": 7
        }
      ]
    },
    {
      "cell_type": "code",
      "metadata": {
        "colab": {
          "base_uri": "https://localhost:8080/"
        },
        "id": "M91ylZko22jy",
        "outputId": "463d177f-37c5-4e1d-ae0f-2d957db5d056"
      },
      "source": [
        "df.shape"
      ],
      "execution_count": 8,
      "outputs": [
        {
          "output_type": "execute_result",
          "data": {
            "text/plain": [
              "(18278, 14)"
            ]
          },
          "metadata": {
            "tags": []
          },
          "execution_count": 8
        }
      ]
    },
    {
      "cell_type": "code",
      "metadata": {
        "id": "zgXzOMqz39Zy"
      },
      "source": [
        "split = (70 , 30) "
      ],
      "execution_count": 9,
      "outputs": []
    },
    {
      "cell_type": "code",
      "metadata": {
        "colab": {
          "base_uri": "https://localhost:8080/"
        },
        "id": "YuD1usal4adw",
        "outputId": "d4db66d6-b121-4cdd-a5da-70fb7ba7f4f8"
      },
      "source": [
        "train_dataset_split = int(df.shape[0]* split[0]/100)\n",
        "train_dataset_split"
      ],
      "execution_count": 10,
      "outputs": [
        {
          "output_type": "execute_result",
          "data": {
            "text/plain": [
              "12794"
            ]
          },
          "metadata": {
            "tags": []
          },
          "execution_count": 10
        }
      ]
    },
    {
      "cell_type": "code",
      "metadata": {
        "id": "SaRNyZKC5lma"
      },
      "source": [
        "train_dataset = df[:train_dataset_split]"
      ],
      "execution_count": 11,
      "outputs": []
    },
    {
      "cell_type": "code",
      "metadata": {
        "id": "q_wTHDWn7yxu"
      },
      "source": [
        "test_dataset = df[train_dataset_split:]"
      ],
      "execution_count": 12,
      "outputs": []
    },
    {
      "cell_type": "code",
      "metadata": {
        "colab": {
          "base_uri": "https://localhost:8080/"
        },
        "id": "FMGQpxhf-Epb",
        "outputId": "8b0d9289-e005-4925-dcbb-6e7526b0ca5c"
      },
      "source": [
        "train_dataset[:3]"
      ],
      "execution_count": 13,
      "outputs": [
        {
          "output_type": "execute_result",
          "data": {
            "text/plain": [
              "array([[197061, 'J. Matip', 61.0, 83.0, 68.0, 46.0, 67.0,\n",
              "        63.146365422396855, 61.832514734774065, 66.39047151277013,\n",
              "        37.79862475442043, 65.42239685658153, 63.37475442043222, 82],\n",
              "       [238559, 'S. Mai', 40.0, 63.0, 42.0, 58.0, 52.0,\n",
              "        63.146365422396855, 61.832514734774065, 66.39047151277013,\n",
              "        37.79862475442043, 65.42239685658153, 63.37475442043222, 65],\n",
              "       [212680, 'J. Jones', 91.0, 40.0, 66.0, 57.0, 76.0,\n",
              "        63.146365422396855, 61.832514734774065, 66.39047151277013,\n",
              "        37.79862475442043, 65.42239685658153, 63.37475442043222, 72]],\n",
              "      dtype=object)"
            ]
          },
          "metadata": {
            "tags": []
          },
          "execution_count": 13
        }
      ]
    },
    {
      "cell_type": "code",
      "metadata": {
        "colab": {
          "base_uri": "https://localhost:8080/"
        },
        "id": "3U7i0K669pr1",
        "outputId": "a1d1efad-ea61-48f6-f18a-e56e53e44543"
      },
      "source": [
        "X_train = train_dataset[:,2:-1]\n",
        "X_train[:3]"
      ],
      "execution_count": 14,
      "outputs": [
        {
          "output_type": "execute_result",
          "data": {
            "text/plain": [
              "array([[61.0, 83.0, 68.0, 46.0, 67.0, 63.146365422396855,\n",
              "        61.832514734774065, 66.39047151277013, 37.79862475442043,\n",
              "        65.42239685658153, 63.37475442043222],\n",
              "       [40.0, 63.0, 42.0, 58.0, 52.0, 63.146365422396855,\n",
              "        61.832514734774065, 66.39047151277013, 37.79862475442043,\n",
              "        65.42239685658153, 63.37475442043222],\n",
              "       [91.0, 40.0, 66.0, 57.0, 76.0, 63.146365422396855,\n",
              "        61.832514734774065, 66.39047151277013, 37.79862475442043,\n",
              "        65.42239685658153, 63.37475442043222]], dtype=object)"
            ]
          },
          "metadata": {
            "tags": []
          },
          "execution_count": 14
        }
      ]
    },
    {
      "cell_type": "code",
      "metadata": {
        "colab": {
          "base_uri": "https://localhost:8080/"
        },
        "id": "LjXkFHWW-Lh-",
        "outputId": "b654b598-db16-4228-b772-38ce843bb9d3"
      },
      "source": [
        "y_train = train_dataset[:,-1].reshape(-1, 1)\n",
        "y_train"
      ],
      "execution_count": 15,
      "outputs": [
        {
          "output_type": "execute_result",
          "data": {
            "text/plain": [
              "array([[82],\n",
              "       [65],\n",
              "       [72],\n",
              "       ...,\n",
              "       [60],\n",
              "       [62],\n",
              "       [56]], dtype=object)"
            ]
          },
          "metadata": {
            "tags": []
          },
          "execution_count": 15
        }
      ]
    },
    {
      "cell_type": "code",
      "metadata": {
        "colab": {
          "base_uri": "https://localhost:8080/"
        },
        "id": "mkXbOIVxH-bZ",
        "outputId": "8ad3a27a-b8a1-466c-e26e-03e0276b3644"
      },
      "source": [
        "X_test = test_dataset[:,2:-1]\n",
        "X_test[0:3]"
      ],
      "execution_count": 16,
      "outputs": [
        {
          "output_type": "execute_result",
          "data": {
            "text/plain": [
              "array([[84.0, 72.0, 71.0, 69.0, 75.0, 63.146365422396855,\n",
              "        61.832514734774065, 66.39047151277013, 37.79862475442043,\n",
              "        65.42239685658153, 63.37475442043222],\n",
              "       [58.0, 61.0, 58.0, 48.0, 63.0, 63.146365422396855,\n",
              "        61.832514734774065, 66.39047151277013, 37.79862475442043,\n",
              "        65.42239685658153, 63.37475442043222],\n",
              "       [64.0, 74.0, 59.0, 44.0, 66.0, 63.146365422396855,\n",
              "        61.832514734774065, 66.39047151277013, 37.79862475442043,\n",
              "        65.42239685658153, 63.37475442043222]], dtype=object)"
            ]
          },
          "metadata": {
            "tags": []
          },
          "execution_count": 16
        }
      ]
    },
    {
      "cell_type": "code",
      "metadata": {
        "colab": {
          "base_uri": "https://localhost:8080/"
        },
        "id": "OKRoxc-EISWM",
        "outputId": "ca465d7e-5163-4870-8c9c-8aca3cd73b30"
      },
      "source": [
        "y_test = test_dataset[:,-1].reshape(-1, 1)\n",
        "y_test"
      ],
      "execution_count": 17,
      "outputs": [
        {
          "output_type": "execute_result",
          "data": {
            "text/plain": [
              "array([[76],\n",
              "       [62],\n",
              "       [74],\n",
              "       ...,\n",
              "       [71],\n",
              "       [67],\n",
              "       [75]], dtype=object)"
            ]
          },
          "metadata": {
            "tags": []
          },
          "execution_count": 17
        }
      ]
    },
    {
      "cell_type": "markdown",
      "metadata": {
        "id": "sGkAf8MZBhEF"
      },
      "source": [
        "#*Prediction using XGBOOST algorithm*"
      ]
    },
    {
      "cell_type": "code",
      "metadata": {
        "id": "jBEhM2HhIxnQ"
      },
      "source": [
        "import xgboost as xgb"
      ],
      "execution_count": 18,
      "outputs": []
    },
    {
      "cell_type": "code",
      "metadata": {
        "colab": {
          "base_uri": "https://localhost:8080/"
        },
        "id": "AY_8lmSdI7j2",
        "outputId": "6a781dfa-2201-4292-9011-3f75866782a7"
      },
      "source": [
        "xgb_model = xgb.XGBRegressor(objective=\"reg:squarederror\")\n",
        "xgb_model.fit(X_train,y_train)"
      ],
      "execution_count": 19,
      "outputs": [
        {
          "output_type": "execute_result",
          "data": {
            "text/plain": [
              "XGBRegressor(base_score=0.5, booster='gbtree', colsample_bylevel=1,\n",
              "             colsample_bynode=1, colsample_bytree=1, gamma=0,\n",
              "             importance_type='gain', learning_rate=0.1, max_delta_step=0,\n",
              "             max_depth=3, min_child_weight=1, missing=None, n_estimators=100,\n",
              "             n_jobs=1, nthread=None, objective='reg:squarederror',\n",
              "             random_state=0, reg_alpha=0, reg_lambda=1, scale_pos_weight=1,\n",
              "             seed=None, silent=None, subsample=1, verbosity=1)"
            ]
          },
          "metadata": {
            "tags": []
          },
          "execution_count": 19
        }
      ]
    },
    {
      "cell_type": "code",
      "metadata": {
        "colab": {
          "base_uri": "https://localhost:8080/"
        },
        "id": "HryEt2xkJMhb",
        "outputId": "8a830452-84ad-4951-80d6-6bb4bbf48d8d"
      },
      "source": [
        "predict = xgb_model.predict(X_test)\n",
        "predict"
      ],
      "execution_count": 20,
      "outputs": [
        {
          "output_type": "execute_result",
          "data": {
            "text/plain": [
              "array([75.95888 , 63.822598, 73.46992 , ..., 70.91526 , 66.8435  ,\n",
              "       73.32599 ], dtype=float32)"
            ]
          },
          "metadata": {
            "tags": []
          },
          "execution_count": 20
        }
      ]
    },
    {
      "cell_type": "code",
      "metadata": {
        "colab": {
          "base_uri": "https://localhost:8080/"
        },
        "id": "oMYU32u5JYCC",
        "outputId": "70e7be90-c0e9-49ab-d248-7dde59ab6917"
      },
      "source": [
        "xgb_model.score(X_train,y_train) * 100"
      ],
      "execution_count": 21,
      "outputs": [
        {
          "output_type": "execute_result",
          "data": {
            "text/plain": [
              "95.41639591959532"
            ]
          },
          "metadata": {
            "tags": []
          },
          "execution_count": 21
        }
      ]
    },
    {
      "cell_type": "code",
      "metadata": {
        "colab": {
          "base_uri": "https://localhost:8080/"
        },
        "id": "tmssot-9JciH",
        "outputId": "0cd589b1-7f1f-43b3-b089-909f30570a87"
      },
      "source": [
        "xgb_model.score(X_test,y_test) *100"
      ],
      "execution_count": 22,
      "outputs": [
        {
          "output_type": "execute_result",
          "data": {
            "text/plain": [
              "94.88649809435647"
            ]
          },
          "metadata": {
            "tags": []
          },
          "execution_count": 22
        }
      ]
    },
    {
      "cell_type": "code",
      "metadata": {
        "colab": {
          "base_uri": "https://localhost:8080/"
        },
        "id": "m6Y723oTKQDR",
        "outputId": "3c2d24e6-26f5-4bc2-92cc-c10da8df2953"
      },
      "source": [
        "test_dataset[:,[1,-1]].shape"
      ],
      "execution_count": 23,
      "outputs": [
        {
          "output_type": "execute_result",
          "data": {
            "text/plain": [
              "(5484, 2)"
            ]
          },
          "metadata": {
            "tags": []
          },
          "execution_count": 23
        }
      ]
    },
    {
      "cell_type": "code",
      "metadata": {
        "id": "GKPUzUNyKCI1"
      },
      "source": [
        "predict1 = predict.reshape(-1,1)"
      ],
      "execution_count": 24,
      "outputs": []
    },
    {
      "cell_type": "code",
      "metadata": {
        "colab": {
          "base_uri": "https://localhost:8080/"
        },
        "id": "Bclmaj25LNax",
        "outputId": "7ac464cd-d68f-41e0-e469-45ee9abaa080"
      },
      "source": [
        "prediction_df = np.concatenate((test_dataset[:,[1,-1]],predict1), axis = 1)\n",
        "prediction_df"
      ],
      "execution_count": 25,
      "outputs": [
        {
          "output_type": "execute_result",
          "data": {
            "text/plain": [
              "array([['Léo Matos', 76, 75.95887756347656],\n",
              "       ['M. Ambrosiewicz', 62, 63.82259750366211],\n",
              "       ['Marlon', 74, 73.46991729736328],\n",
              "       ...,\n",
              "       ['Y. Shakhov', 71, 70.9152603149414],\n",
              "       ['A. Turgeman', 67, 66.84349822998047],\n",
              "       ['L. Tawamba', 75, 73.32598876953125]], dtype=object)"
            ]
          },
          "metadata": {
            "tags": []
          },
          "execution_count": 25
        }
      ]
    },
    {
      "cell_type": "code",
      "metadata": {
        "colab": {
          "base_uri": "https://localhost:8080/",
          "height": 710
        },
        "id": "5puVUs2SMxHY",
        "outputId": "8973296c-2cae-4fd4-f9d9-cf45d4389cf8"
      },
      "source": [
        "rating_df = pd.DataFrame(data=prediction_df,columns=['name', 'rating', 'prediction'])\n",
        "rating_df['difference'] = abs(rating_df['rating'] - rating_df['prediction'])\n",
        "rating_df = rating_df.sort_values(by='difference')\n",
        "rating_df['normalized_rating'] = ((rating_df['rating'] -  rating_df['rating'].min())/(rating_df['rating'].max() - rating_df['rating'].min()))\n",
        "rating_df['normalized_prediction'] = ((rating_df['prediction'] -  rating_df['prediction'].min())/(rating_df['prediction'].max() - rating_df['prediction'].min()))\n",
        "rating_df['squared_difference'] = (rating_df['normalized_prediction'] - rating_df['normalized_rating']) ** 2\n",
        "rating_df['rounded_prediction'] = rating_df['prediction'].astype(float).round(decimals=0).astype('int32')\n",
        "rating_df['normalized_rounded_prediction'] = ((rating_df['rounded_prediction'] -  rating_df['rounded_prediction'].min())/(rating_df['rounded_prediction'].max() - rating_df['rounded_prediction'].min()))\n",
        "\n",
        "print(np.sqrt(rating_df['squared_difference'].sum()/len(rating_df)))\n",
        "print(rating_df.plot.scatter(x='normalized_rounded_prediction', y='squared_difference'))\n",
        "rating_df"
      ],
      "execution_count": 26,
      "outputs": [
        {
          "output_type": "stream",
          "text": [
            "0.041853781005708884\n",
            "AxesSubplot(0.125,0.125;0.775x0.755)\n"
          ],
          "name": "stdout"
        },
        {
          "output_type": "execute_result",
          "data": {
            "text/html": [
              "<div>\n",
              "<style scoped>\n",
              "    .dataframe tbody tr th:only-of-type {\n",
              "        vertical-align: middle;\n",
              "    }\n",
              "\n",
              "    .dataframe tbody tr th {\n",
              "        vertical-align: top;\n",
              "    }\n",
              "\n",
              "    .dataframe thead th {\n",
              "        text-align: right;\n",
              "    }\n",
              "</style>\n",
              "<table border=\"1\" class=\"dataframe\">\n",
              "  <thead>\n",
              "    <tr style=\"text-align: right;\">\n",
              "      <th></th>\n",
              "      <th>name</th>\n",
              "      <th>rating</th>\n",
              "      <th>prediction</th>\n",
              "      <th>difference</th>\n",
              "      <th>normalized_rating</th>\n",
              "      <th>normalized_prediction</th>\n",
              "      <th>squared_difference</th>\n",
              "      <th>rounded_prediction</th>\n",
              "      <th>normalized_rounded_prediction</th>\n",
              "    </tr>\n",
              "  </thead>\n",
              "  <tbody>\n",
              "    <tr>\n",
              "      <th>5283</th>\n",
              "      <td>H. Salem</td>\n",
              "      <td>56</td>\n",
              "      <td>55.9996</td>\n",
              "      <td>0.000415802</td>\n",
              "      <td>0.195122</td>\n",
              "      <td>0.162549</td>\n",
              "      <td>0.001061</td>\n",
              "      <td>56</td>\n",
              "      <td>0.157895</td>\n",
              "    </tr>\n",
              "    <tr>\n",
              "      <th>4780</th>\n",
              "      <td>Oleaga</td>\n",
              "      <td>61</td>\n",
              "      <td>60.9995</td>\n",
              "      <td>0.000488281</td>\n",
              "      <td>0.317073</td>\n",
              "      <td>0.2925</td>\n",
              "      <td>0.000603861</td>\n",
              "      <td>61</td>\n",
              "      <td>0.289474</td>\n",
              "    </tr>\n",
              "    <tr>\n",
              "      <th>5198</th>\n",
              "      <td>C. Burke</td>\n",
              "      <td>69</td>\n",
              "      <td>68.9994</td>\n",
              "      <td>0.000556946</td>\n",
              "      <td>0.512195</td>\n",
              "      <td>0.500422</td>\n",
              "      <td>0.000138613</td>\n",
              "      <td>69</td>\n",
              "      <td>0.500000</td>\n",
              "    </tr>\n",
              "    <tr>\n",
              "      <th>3253</th>\n",
              "      <td>S. Mendoza</td>\n",
              "      <td>73</td>\n",
              "      <td>73.001</td>\n",
              "      <td>0.000991821</td>\n",
              "      <td>0.609756</td>\n",
              "      <td>0.604424</td>\n",
              "      <td>2.8432e-05</td>\n",
              "      <td>73</td>\n",
              "      <td>0.605263</td>\n",
              "    </tr>\n",
              "    <tr>\n",
              "      <th>2703</th>\n",
              "      <td>Diego Castro</td>\n",
              "      <td>76</td>\n",
              "      <td>76.0011</td>\n",
              "      <td>0.00108337</td>\n",
              "      <td>0.682927</td>\n",
              "      <td>0.682398</td>\n",
              "      <td>2.79898e-07</td>\n",
              "      <td>76</td>\n",
              "      <td>0.684211</td>\n",
              "    </tr>\n",
              "    <tr>\n",
              "      <th>...</th>\n",
              "      <td>...</td>\n",
              "      <td>...</td>\n",
              "      <td>...</td>\n",
              "      <td>...</td>\n",
              "      <td>...</td>\n",
              "      <td>...</td>\n",
              "      <td>...</td>\n",
              "      <td>...</td>\n",
              "      <td>...</td>\n",
              "    </tr>\n",
              "    <tr>\n",
              "      <th>4571</th>\n",
              "      <td>E. Cavani</td>\n",
              "      <td>88</td>\n",
              "      <td>81.8194</td>\n",
              "      <td>6.18065</td>\n",
              "      <td>0.97561</td>\n",
              "      <td>0.833617</td>\n",
              "      <td>0.0201618</td>\n",
              "      <td>82</td>\n",
              "      <td>0.842105</td>\n",
              "    </tr>\n",
              "    <tr>\n",
              "      <th>892</th>\n",
              "      <td>G. Bruna</td>\n",
              "      <td>54</td>\n",
              "      <td>60.4446</td>\n",
              "      <td>6.44465</td>\n",
              "      <td>0.146341</td>\n",
              "      <td>0.278078</td>\n",
              "      <td>0.0173546</td>\n",
              "      <td>60</td>\n",
              "      <td>0.263158</td>\n",
              "    </tr>\n",
              "    <tr>\n",
              "      <th>3220</th>\n",
              "      <td>Vagnão Junior</td>\n",
              "      <td>64</td>\n",
              "      <td>70.8412</td>\n",
              "      <td>6.84117</td>\n",
              "      <td>0.390244</td>\n",
              "      <td>0.548289</td>\n",
              "      <td>0.0249783</td>\n",
              "      <td>71</td>\n",
              "      <td>0.552632</td>\n",
              "    </tr>\n",
              "    <tr>\n",
              "      <th>417</th>\n",
              "      <td>Z. Alkurt</td>\n",
              "      <td>50</td>\n",
              "      <td>57.3962</td>\n",
              "      <td>7.39616</td>\n",
              "      <td>0.0487805</td>\n",
              "      <td>0.198847</td>\n",
              "      <td>0.0225198</td>\n",
              "      <td>57</td>\n",
              "      <td>0.184211</td>\n",
              "    </tr>\n",
              "    <tr>\n",
              "      <th>1254</th>\n",
              "      <td>A. Díaz</td>\n",
              "      <td>54</td>\n",
              "      <td>61.7779</td>\n",
              "      <td>7.77788</td>\n",
              "      <td>0.146341</td>\n",
              "      <td>0.31273</td>\n",
              "      <td>0.027685</td>\n",
              "      <td>62</td>\n",
              "      <td>0.315789</td>\n",
              "    </tr>\n",
              "  </tbody>\n",
              "</table>\n",
              "<p>5484 rows × 9 columns</p>\n",
              "</div>"
            ],
            "text/plain": [
              "               name rating  ... rounded_prediction normalized_rounded_prediction\n",
              "5283       H. Salem     56  ...                 56                      0.157895\n",
              "4780         Oleaga     61  ...                 61                      0.289474\n",
              "5198       C. Burke     69  ...                 69                      0.500000\n",
              "3253     S. Mendoza     73  ...                 73                      0.605263\n",
              "2703   Diego Castro     76  ...                 76                      0.684211\n",
              "...             ...    ...  ...                ...                           ...\n",
              "4571      E. Cavani     88  ...                 82                      0.842105\n",
              "892        G. Bruna     54  ...                 60                      0.263158\n",
              "3220  Vagnão Junior     64  ...                 71                      0.552632\n",
              "417       Z. Alkurt     50  ...                 57                      0.184211\n",
              "1254        A. Díaz     54  ...                 62                      0.315789\n",
              "\n",
              "[5484 rows x 9 columns]"
            ]
          },
          "metadata": {
            "tags": []
          },
          "execution_count": 26
        },
        {
          "output_type": "display_data",
          "data": {
            "image/png": "[encoded data removed]",
            "text/plain": [
              "<Figure size 432x288 with 1 Axes>"
            ]
          },
          "metadata": {
            "tags": [],
            "needs_background": "light"
          }
        }
      ]
    },
    {
      "cell_type": "code",
      "metadata": {
        "colab": {
          "base_uri": "https://localhost:8080/"
        },
        "id": "zzWWk3pCyyUF",
        "outputId": "c53ca0cc-e113-4eea-9a88-eaadc006cdb5"
      },
      "source": [
        "len(rating_df)"
      ],
      "execution_count": 27,
      "outputs": [
        {
          "output_type": "execute_result",
          "data": {
            "text/plain": [
              "5484"
            ]
          },
          "metadata": {
            "tags": []
          },
          "execution_count": 27
        }
      ]
    },
    {
      "cell_type": "code",
      "metadata": {
        "colab": {
          "base_uri": "https://localhost:8080/"
        },
        "id": "hz-_qFfdNyKr",
        "outputId": "4845f578-9764-45c3-d49e-f5a23cde10be"
      },
      "source": [
        "rating_df.iloc[5000]"
      ],
      "execution_count": 28,
      "outputs": [
        {
          "output_type": "execute_result",
          "data": {
            "text/plain": [
              "name                              Mário Rui\n",
              "rating                                   79\n",
              "prediction                          76.3225\n",
              "difference                          2.67754\n",
              "normalized_rating                  0.756098\n",
              "normalized_prediction              0.690751\n",
              "squared_difference               0.00427022\n",
              "rounded_prediction                       76\n",
              "normalized_rounded_prediction      0.684211\n",
              "Name: 5306, dtype: object"
            ]
          },
          "metadata": {
            "tags": []
          },
          "execution_count": 28
        }
      ]
    },
    {
      "cell_type": "markdown",
      "metadata": {
        "id": "XzX4RKk8AoPC"
      },
      "source": [
        "#*Predicting values using linear regression*"
      ]
    },
    {
      "cell_type": "code",
      "metadata": {
        "colab": {
          "base_uri": "https://localhost:8080/"
        },
        "id": "IPvSH-HoEbmC",
        "outputId": "939f98ad-7147-4cb1-d899-04f9587812ee"
      },
      "source": [
        "from sklearn.preprocessing import MinMaxScaler\n",
        "min_max_scaler = MinMaxScaler()\n",
        "normalized_train_dataset = min_max_scaler.fit_transform(X_train)\n",
        "normalized_train_dataset"
      ],
      "execution_count": 29,
      "outputs": [
        {
          "output_type": "execute_result",
          "data": {
            "text/plain": [
              "array([[0.50704225, 0.90666667, 0.64705882, ..., 0.4867665 , 0.46570428,\n",
              "        0.44749509],\n",
              "       [0.21126761, 0.64      , 0.26470588, ..., 0.4867665 , 0.46570428,\n",
              "        0.44749509],\n",
              "       [0.92957746, 0.33333333, 0.61764706, ..., 0.4867665 , 0.46570428,\n",
              "        0.44749509],\n",
              "       ...,\n",
              "       [0.45070423, 0.56      , 0.47058824, ..., 0.4867665 , 0.46570428,\n",
              "        0.44749509],\n",
              "       [0.43661972, 0.62666667, 0.45588235, ..., 0.4867665 , 0.46570428,\n",
              "        0.44749509],\n",
              "       [0.54929577, 0.17333333, 0.33823529, ..., 0.4867665 , 0.46570428,\n",
              "        0.44749509]])"
            ]
          },
          "metadata": {
            "tags": []
          },
          "execution_count": 29
        }
      ]
    },
    {
      "cell_type": "code",
      "metadata": {
        "colab": {
          "base_uri": "https://localhost:8080/"
        },
        "id": "EOePZ-dFMmwx",
        "outputId": "1892c8b6-0061-47dd-9a4a-40182adb2399"
      },
      "source": [
        "from sklearn.preprocessing import MinMaxScaler\n",
        "min_max_scaler = MinMaxScaler()\n",
        "normalized_ytrain_dataset = min_max_scaler.fit_transform(y_train)\n",
        "normalized_ytrain_dataset"
      ],
      "execution_count": 30,
      "outputs": [
        {
          "output_type": "execute_result",
          "data": {
            "text/plain": [
              "array([[0.73913043],\n",
              "       [0.36956522],\n",
              "       [0.52173913],\n",
              "       ...,\n",
              "       [0.26086957],\n",
              "       [0.30434783],\n",
              "       [0.17391304]])"
            ]
          },
          "metadata": {
            "tags": []
          },
          "execution_count": 30
        }
      ]
    },
    {
      "cell_type": "code",
      "metadata": {
        "colab": {
          "base_uri": "https://localhost:8080/"
        },
        "id": "F2F7AgdT8Kan",
        "outputId": "56750993-3168-41e1-f535-b9b6f27bbef0"
      },
      "source": [
        "from sklearn.preprocessing import MinMaxScaler\n",
        "min_max_scaler = MinMaxScaler()\n",
        "normalized_test_dataset = min_max_scaler.fit_transform(X_test)\n",
        "normalized_test_dataset"
      ],
      "execution_count": 31,
      "outputs": [
        {
          "output_type": "execute_result",
          "data": {
            "text/plain": [
              "array([[0.83333333, 0.75675676, 0.71212121, ..., 0.47497135, 0.45383104,\n",
              "        0.45478201],\n",
              "       [0.47222222, 0.60810811, 0.51515152, ..., 0.47497135, 0.45383104,\n",
              "        0.45478201],\n",
              "       [0.55555556, 0.78378378, 0.53030303, ..., 0.47497135, 0.45383104,\n",
              "        0.45478201],\n",
              "       ...,\n",
              "       [0.63888889, 0.66216216, 0.65151515, ..., 0.47497135, 0.45383104,\n",
              "        0.45478201],\n",
              "       [0.66666667, 0.13513514, 0.28787879, ..., 0.47497135, 0.45383104,\n",
              "        0.45478201],\n",
              "       [0.70833333, 0.10810811, 0.37878788, ..., 0.47497135, 0.45383104,\n",
              "        0.45478201]])"
            ]
          },
          "metadata": {
            "tags": []
          },
          "execution_count": 31
        }
      ]
    },
    {
      "cell_type": "code",
      "metadata": {
        "id": "VKZRYop_9OTK"
      },
      "source": [
        "from sklearn.preprocessing import MinMaxScaler\n",
        "min_max_scaler = MinMaxScaler()\n",
        "normalized_ytest_dataset = min_max_scaler.fit_transform(y_test)"
      ],
      "execution_count": 32,
      "outputs": []
    },
    {
      "cell_type": "code",
      "metadata": {
        "id": "ExylKemr9uxT"
      },
      "source": [
        "from sklearn.linear_model import LinearRegression\n",
        "from sklearn.metrics import mean_squared_error,r2_score\n",
        "from sklearn import datasets,linear_model"
      ],
      "execution_count": 33,
      "outputs": []
    },
    {
      "cell_type": "code",
      "metadata": {
        "colab": {
          "base_uri": "https://localhost:8080/"
        },
        "id": "Wt6Efdrw9nnz",
        "outputId": "1912af1f-2af1-49b9-cfcf-c3c1b1b74dc3"
      },
      "source": [
        "linear_regression = LinearRegression()\n",
        "linear_regression.fit(normalized_train_dataset,normalized_ytrain_dataset)\n",
        "prediction = linear_regression.predict(normalized_test_dataset)\n",
        "prediction"
      ],
      "execution_count": 34,
      "outputs": [
        {
          "output_type": "execute_result",
          "data": {
            "text/plain": [
              "array([[0.67298806],\n",
              "       [0.44942966],\n",
              "       [0.51108609],\n",
              "       ...,\n",
              "       [0.60933219],\n",
              "       [0.36722997],\n",
              "       [0.41356199]])"
            ]
          },
          "metadata": {
            "tags": []
          },
          "execution_count": 34
        }
      ]
    },
    {
      "cell_type": "code",
      "metadata": {
        "colab": {
          "base_uri": "https://localhost:8080/"
        },
        "id": "Km-bNlVg-u5y",
        "outputId": "193a43b6-24a6-4564-fa83-754fa94395af"
      },
      "source": [
        "normalized_ytest_dataset"
      ],
      "execution_count": 35,
      "outputs": [
        {
          "output_type": "execute_result",
          "data": {
            "text/plain": [
              "array([[0.68292683],\n",
              "       [0.34146341],\n",
              "       [0.63414634],\n",
              "       ...,\n",
              "       [0.56097561],\n",
              "       [0.46341463],\n",
              "       [0.65853659]])"
            ]
          },
          "metadata": {
            "tags": []
          },
          "execution_count": 35
        }
      ]
    },
    {
      "cell_type": "code",
      "metadata": {
        "colab": {
          "base_uri": "https://localhost:8080/"
        },
        "id": "IiF3sRIM-QI0",
        "outputId": "28bcb722-1246-41ca-a0a9-62ea4c3a2ba6"
      },
      "source": [
        "test_set_rmse = (mean_squared_error(normalized_ytest_dataset, prediction, squared=False))\n",
        "test_set_rmse"
      ],
      "execution_count": 36,
      "outputs": [
        {
          "output_type": "execute_result",
          "data": {
            "text/plain": [
              "0.10120641512862241"
            ]
          },
          "metadata": {
            "tags": []
          },
          "execution_count": 36
        }
      ]
    },
    {
      "cell_type": "code",
      "metadata": {
        "colab": {
          "base_uri": "https://localhost:8080/"
        },
        "id": "1zq1W-rVwSt6",
        "outputId": "2711c685-beeb-4f57-e01f-37b9fac79bd2"
      },
      "source": [
        "normalized_ytest_dataset"
      ],
      "execution_count": 37,
      "outputs": [
        {
          "output_type": "execute_result",
          "data": {
            "text/plain": [
              "array([[0.68292683],\n",
              "       [0.34146341],\n",
              "       [0.63414634],\n",
              "       ...,\n",
              "       [0.56097561],\n",
              "       [0.46341463],\n",
              "       [0.65853659]])"
            ]
          },
          "metadata": {
            "tags": []
          },
          "execution_count": 37
        }
      ]
    },
    {
      "cell_type": "code",
      "metadata": {
        "colab": {
          "base_uri": "https://localhost:8080/"
        },
        "id": "2MyY154IBEv8",
        "outputId": "2b42e1fa-7fe5-4200-bc9f-5685e40cc477"
      },
      "source": [
        "prediction_linear = np.concatenate((test_dataset[:,[1,-1]],normalized_ytest_dataset), axis = 1)\n",
        "prediction_linear = np.concatenate((prediction_linear, prediction), axis=1)\n",
        "prediction_linear[1]"
      ],
      "execution_count": 38,
      "outputs": [
        {
          "output_type": "execute_result",
          "data": {
            "text/plain": [
              "array(['M. Ambrosiewicz', 62, 0.3414634146341462, 0.44942965742650487],\n",
              "      dtype=object)"
            ]
          },
          "metadata": {
            "tags": []
          },
          "execution_count": 38
        }
      ]
    },
    {
      "cell_type": "code",
      "metadata": {
        "colab": {
          "base_uri": "https://localhost:8080/",
          "height": 692
        },
        "id": "gTKaEM4kxT0K",
        "outputId": "62ce8626-0ea7-47aa-bab2-60d400c1f59c"
      },
      "source": [
        "rating_df_all = pd.DataFrame(data=prediction_linear,columns=['name', 'true_y', 'normalized_true_y', 'predicted_value_linear'])\n",
        "rating_df_all['squared_linear_difference'] = abs(rating_df_all['normalized_true_y'] - rating_df_all['predicted_value_linear'])\n",
        "rating_df_all['unnormalized_prediction'] = (rating_df_all['predicted_value_linear'])*(rating_df_all['true_y'].max() - rating_df_all['true_y'].min()) + rating_df_all['true_y'].min()\n",
        "\n",
        "normalized_predicted_value = rating_df_all['unnormalized_prediction'].astype(float).round(decimals=0).astype('int32')\n",
        "rating_df_all['normalized_predict_values'] = (normalized_predicted_value - normalized_predicted_value.min())/(normalized_predicted_value.max() - normalized_predicted_value.min())\n",
        "#print(rating_df_all.plot.scatter(x='normalized_true_y', y='squared_linear_difference'))\n",
        "\n",
        "print(rating_df_all.plot.scatter(x='normalized_predict_values', y='squared_linear_difference'))\n",
        "rating_df_all\n",
        "\n"
      ],
      "execution_count": 52,
      "outputs": [
        {
          "output_type": "stream",
          "text": [
            "AxesSubplot(0.125,0.125;0.775x0.755)\n"
          ],
          "name": "stdout"
        },
        {
          "output_type": "execute_result",
          "data": {
            "text/html": [
              "<div>\n",
              "<style scoped>\n",
              "    .dataframe tbody tr th:only-of-type {\n",
              "        vertical-align: middle;\n",
              "    }\n",
              "\n",
              "    .dataframe tbody tr th {\n",
              "        vertical-align: top;\n",
              "    }\n",
              "\n",
              "    .dataframe thead th {\n",
              "        text-align: right;\n",
              "    }\n",
              "</style>\n",
              "<table border=\"1\" class=\"dataframe\">\n",
              "  <thead>\n",
              "    <tr style=\"text-align: right;\">\n",
              "      <th></th>\n",
              "      <th>name</th>\n",
              "      <th>true_y</th>\n",
              "      <th>normalized_true_y</th>\n",
              "      <th>predicted_value_linear</th>\n",
              "      <th>squared_linear_difference</th>\n",
              "      <th>unnormalized_prediction</th>\n",
              "      <th>normalized_predict_values</th>\n",
              "    </tr>\n",
              "  </thead>\n",
              "  <tbody>\n",
              "    <tr>\n",
              "      <th>0</th>\n",
              "      <td>Léo Matos</td>\n",
              "      <td>76</td>\n",
              "      <td>0.682927</td>\n",
              "      <td>0.672988</td>\n",
              "      <td>0.00993877</td>\n",
              "      <td>75.5925</td>\n",
              "      <td>0.710526</td>\n",
              "    </tr>\n",
              "    <tr>\n",
              "      <th>1</th>\n",
              "      <td>M. Ambrosiewicz</td>\n",
              "      <td>62</td>\n",
              "      <td>0.341463</td>\n",
              "      <td>0.44943</td>\n",
              "      <td>0.107966</td>\n",
              "      <td>66.4266</td>\n",
              "      <td>0.447368</td>\n",
              "    </tr>\n",
              "    <tr>\n",
              "      <th>2</th>\n",
              "      <td>Marlon</td>\n",
              "      <td>74</td>\n",
              "      <td>0.634146</td>\n",
              "      <td>0.511086</td>\n",
              "      <td>0.12306</td>\n",
              "      <td>68.9545</td>\n",
              "      <td>0.526316</td>\n",
              "    </tr>\n",
              "    <tr>\n",
              "      <th>3</th>\n",
              "      <td>Juan Dominguez</td>\n",
              "      <td>69</td>\n",
              "      <td>0.512195</td>\n",
              "      <td>0.540073</td>\n",
              "      <td>0.0278776</td>\n",
              "      <td>70.143</td>\n",
              "      <td>0.552632</td>\n",
              "    </tr>\n",
              "    <tr>\n",
              "      <th>4</th>\n",
              "      <td>A. Aguilar</td>\n",
              "      <td>74</td>\n",
              "      <td>0.634146</td>\n",
              "      <td>0.602729</td>\n",
              "      <td>0.0314169</td>\n",
              "      <td>72.7119</td>\n",
              "      <td>0.631579</td>\n",
              "    </tr>\n",
              "    <tr>\n",
              "      <th>...</th>\n",
              "      <td>...</td>\n",
              "      <td>...</td>\n",
              "      <td>...</td>\n",
              "      <td>...</td>\n",
              "      <td>...</td>\n",
              "      <td>...</td>\n",
              "      <td>...</td>\n",
              "    </tr>\n",
              "    <tr>\n",
              "      <th>5479</th>\n",
              "      <td>N. Delfouneso</td>\n",
              "      <td>63</td>\n",
              "      <td>0.365854</td>\n",
              "      <td>0.358956</td>\n",
              "      <td>0.00689788</td>\n",
              "      <td>62.7172</td>\n",
              "      <td>0.368421</td>\n",
              "    </tr>\n",
              "    <tr>\n",
              "      <th>5480</th>\n",
              "      <td>E. Besea</td>\n",
              "      <td>60</td>\n",
              "      <td>0.292683</td>\n",
              "      <td>0.36004</td>\n",
              "      <td>0.0673574</td>\n",
              "      <td>62.7617</td>\n",
              "      <td>0.368421</td>\n",
              "    </tr>\n",
              "    <tr>\n",
              "      <th>5481</th>\n",
              "      <td>Y. Shakhov</td>\n",
              "      <td>71</td>\n",
              "      <td>0.560976</td>\n",
              "      <td>0.609332</td>\n",
              "      <td>0.0483566</td>\n",
              "      <td>72.9826</td>\n",
              "      <td>0.631579</td>\n",
              "    </tr>\n",
              "    <tr>\n",
              "      <th>5482</th>\n",
              "      <td>A. Turgeman</td>\n",
              "      <td>67</td>\n",
              "      <td>0.463415</td>\n",
              "      <td>0.36723</td>\n",
              "      <td>0.0961847</td>\n",
              "      <td>63.0564</td>\n",
              "      <td>0.368421</td>\n",
              "    </tr>\n",
              "    <tr>\n",
              "      <th>5483</th>\n",
              "      <td>L. Tawamba</td>\n",
              "      <td>75</td>\n",
              "      <td>0.658537</td>\n",
              "      <td>0.413562</td>\n",
              "      <td>0.244975</td>\n",
              "      <td>64.956</td>\n",
              "      <td>0.421053</td>\n",
              "    </tr>\n",
              "  </tbody>\n",
              "</table>\n",
              "<p>5484 rows × 7 columns</p>\n",
              "</div>"
            ],
            "text/plain": [
              "                 name true_y  ... unnormalized_prediction normalized_predict_values\n",
              "0           Léo Matos     76  ...                 75.5925                  0.710526\n",
              "1     M. Ambrosiewicz     62  ...                 66.4266                  0.447368\n",
              "2              Marlon     74  ...                 68.9545                  0.526316\n",
              "3      Juan Dominguez     69  ...                  70.143                  0.552632\n",
              "4          A. Aguilar     74  ...                 72.7119                  0.631579\n",
              "...               ...    ...  ...                     ...                       ...\n",
              "5479    N. Delfouneso     63  ...                 62.7172                  0.368421\n",
              "5480         E. Besea     60  ...                 62.7617                  0.368421\n",
              "5481       Y. Shakhov     71  ...                 72.9826                  0.631579\n",
              "5482      A. Turgeman     67  ...                 63.0564                  0.368421\n",
              "5483       L. Tawamba     75  ...                  64.956                  0.421053\n",
              "\n",
              "[5484 rows x 7 columns]"
            ]
          },
          "metadata": {
            "tags": []
          },
          "execution_count": 52
        },
        {
          "output_type": "display_data",
          "data": {
            "image/png": "[encoded data removed]",
            "text/plain": [
              "<Figure size 432x288 with 1 Axes>"
            ]
          },
          "metadata": {
            "tags": [],
            "needs_background": "light"
          }
        }
      ]
    },
    {
      "cell_type": "markdown",
      "metadata": {
        "id": "UK2WjeBSBNix"
      },
      "source": [
        "#*Comparing both the algorithms*"
      ]
    },
    {
      "cell_type": "code",
      "metadata": {
        "colab": {
          "base_uri": "https://localhost:8080/",
          "height": 411
        },
        "id": "uM_ovIL32-M0",
        "outputId": "17c6afe5-b574-4949-b606-40db817e903f"
      },
      "source": [
        "xgboost_linear_merged = rating_df.merge(rating_df_all, on='name')\n",
        "xgboost_linear = xgboost_linear_merged[['name', 'rating','prediction','unnormalized_prediction']]\n",
        "xgboost_linear.columns = ['name', 'player_rating','xgboost_prediction','linear_reg_prediction']\n",
        "xgboost_linear"
      ],
      "execution_count": 42,
      "outputs": [
        {
          "output_type": "execute_result",
          "data": {
            "text/html": [
              "<div>\n",
              "<style scoped>\n",
              "    .dataframe tbody tr th:only-of-type {\n",
              "        vertical-align: middle;\n",
              "    }\n",
              "\n",
              "    .dataframe tbody tr th {\n",
              "        vertical-align: top;\n",
              "    }\n",
              "\n",
              "    .dataframe thead th {\n",
              "        text-align: right;\n",
              "    }\n",
              "</style>\n",
              "<table border=\"1\" class=\"dataframe\">\n",
              "  <thead>\n",
              "    <tr style=\"text-align: right;\">\n",
              "      <th></th>\n",
              "      <th>name</th>\n",
              "      <th>player_rating</th>\n",
              "      <th>xgboost_prediction</th>\n",
              "      <th>linear_reg_prediction</th>\n",
              "    </tr>\n",
              "  </thead>\n",
              "  <tbody>\n",
              "    <tr>\n",
              "      <th>0</th>\n",
              "      <td>H. Salem</td>\n",
              "      <td>56</td>\n",
              "      <td>55.9996</td>\n",
              "      <td>57.5525</td>\n",
              "    </tr>\n",
              "    <tr>\n",
              "      <th>1</th>\n",
              "      <td>Oleaga</td>\n",
              "      <td>61</td>\n",
              "      <td>60.9995</td>\n",
              "      <td>61.2603</td>\n",
              "    </tr>\n",
              "    <tr>\n",
              "      <th>2</th>\n",
              "      <td>C. Burke</td>\n",
              "      <td>69</td>\n",
              "      <td>68.9994</td>\n",
              "      <td>66.7724</td>\n",
              "    </tr>\n",
              "    <tr>\n",
              "      <th>3</th>\n",
              "      <td>S. Mendoza</td>\n",
              "      <td>73</td>\n",
              "      <td>73.001</td>\n",
              "      <td>66.2073</td>\n",
              "    </tr>\n",
              "    <tr>\n",
              "      <th>4</th>\n",
              "      <td>Diego Castro</td>\n",
              "      <td>76</td>\n",
              "      <td>76.0011</td>\n",
              "      <td>71.4008</td>\n",
              "    </tr>\n",
              "    <tr>\n",
              "      <th>...</th>\n",
              "      <td>...</td>\n",
              "      <td>...</td>\n",
              "      <td>...</td>\n",
              "      <td>...</td>\n",
              "    </tr>\n",
              "    <tr>\n",
              "      <th>5701</th>\n",
              "      <td>E. Cavani</td>\n",
              "      <td>88</td>\n",
              "      <td>81.8194</td>\n",
              "      <td>76.5177</td>\n",
              "    </tr>\n",
              "    <tr>\n",
              "      <th>5702</th>\n",
              "      <td>G. Bruna</td>\n",
              "      <td>54</td>\n",
              "      <td>60.4446</td>\n",
              "      <td>61.1515</td>\n",
              "    </tr>\n",
              "    <tr>\n",
              "      <th>5703</th>\n",
              "      <td>Vagnão Junior</td>\n",
              "      <td>64</td>\n",
              "      <td>70.8412</td>\n",
              "      <td>65.0942</td>\n",
              "    </tr>\n",
              "    <tr>\n",
              "      <th>5704</th>\n",
              "      <td>Z. Alkurt</td>\n",
              "      <td>50</td>\n",
              "      <td>57.3962</td>\n",
              "      <td>57.5285</td>\n",
              "    </tr>\n",
              "    <tr>\n",
              "      <th>5705</th>\n",
              "      <td>A. Díaz</td>\n",
              "      <td>54</td>\n",
              "      <td>61.7779</td>\n",
              "      <td>66.5492</td>\n",
              "    </tr>\n",
              "  </tbody>\n",
              "</table>\n",
              "<p>5706 rows × 4 columns</p>\n",
              "</div>"
            ],
            "text/plain": [
              "               name player_rating xgboost_prediction linear_reg_prediction\n",
              "0          H. Salem            56            55.9996               57.5525\n",
              "1            Oleaga            61            60.9995               61.2603\n",
              "2          C. Burke            69            68.9994               66.7724\n",
              "3        S. Mendoza            73             73.001               66.2073\n",
              "4      Diego Castro            76            76.0011               71.4008\n",
              "...             ...           ...                ...                   ...\n",
              "5701      E. Cavani            88            81.8194               76.5177\n",
              "5702       G. Bruna            54            60.4446               61.1515\n",
              "5703  Vagnão Junior            64            70.8412               65.0942\n",
              "5704      Z. Alkurt            50            57.3962               57.5285\n",
              "5705        A. Díaz            54            61.7779               66.5492\n",
              "\n",
              "[5706 rows x 4 columns]"
            ]
          },
          "metadata": {
            "tags": []
          },
          "execution_count": 42
        }
      ]
    },
    {
      "cell_type": "code",
      "metadata": {
        "colab": {
          "base_uri": "https://localhost:8080/",
          "height": 544
        },
        "id": "aJGXEyocJMll",
        "outputId": "c155b2d0-c8d4-44ac-9070-d5cbe78fe5e6"
      },
      "source": [
        "plt.figure(figsize=(13,8))\n",
        "ax = sns.boxplot(data = xgboost_linear, orient=\"h\", palette=\"Set2\",linewidth=3 ,saturation =1)\n",
        "plt.xlabel('Rating', fontsize= 20, labelpad=25)\n",
        "plt.yticks(fontsize=15)"
      ],
      "execution_count": 51,
      "outputs": [
        {
          "output_type": "execute_result",
          "data": {
            "text/plain": [
              "(array([0, 1, 2]), <a list of 3 Text major ticklabel objects>)"
            ]
          },
          "metadata": {
            "tags": []
          },
          "execution_count": 51
        },
        {
          "output_type": "display_data",
          "data": {
            "image/png": "[encoded data removed]",
            "text/plain": [
              "<Figure size 936x576 with 1 Axes>"
            ]
          },
          "metadata": {
            "tags": [],
            "needs_background": "light"
          }
        }
      ]
    },
    {
      "cell_type": "code",
      "metadata": {
        "id": "1jc2pzhpSk7-"
      },
      "source": [
        ""
      ],
      "execution_count": null,
      "outputs": []
    }
  ]
}